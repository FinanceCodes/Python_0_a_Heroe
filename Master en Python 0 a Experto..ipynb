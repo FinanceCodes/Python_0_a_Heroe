{
 "cells": [
  {
   "cell_type": "markdown",
   "id": "c357015e",
   "metadata": {},
   "source": [
    "# Variables"
   ]
  },
  {
   "cell_type": "code",
   "execution_count": 1,
   "id": "5067c9f0",
   "metadata": {},
   "outputs": [],
   "source": [
    "nombre = \"coto walter\"\n",
    "numero = 89\n",
    "flotante = 3.14"
   ]
  },
  {
   "cell_type": "code",
   "execution_count": 3,
   "id": "dbd233cd",
   "metadata": {},
   "outputs": [
    {
     "name": "stdout",
     "output_type": "stream",
     "text": [
      "<class 'str'>\n",
      "<class 'int'>\n",
      "<class 'float'>\n"
     ]
    }
   ],
   "source": [
    "print(type(nombre)) #String\n",
    "print(type(numero)) #Int\n",
    "print(type(flotante)) #Float"
   ]
  },
  {
   "cell_type": "markdown",
   "id": "cbf62905",
   "metadata": {},
   "source": [
    "# Palabras reservadas"
   ]
  },
  {
   "cell_type": "code",
   "execution_count": 5,
   "id": "7948f968",
   "metadata": {},
   "outputs": [
    {
     "name": "stdout",
     "output_type": "stream",
     "text": [
      "['False', 'None', 'True', '__peg_parser__', 'and', 'as', 'assert', 'async', 'await', 'break', 'class', 'continue', 'def', 'del', 'elif', 'else', 'except', 'finally', 'for', 'from', 'global', 'if', 'import', 'in', 'is', 'lambda', 'nonlocal', 'not', 'or', 'pass', 'raise', 'return', 'try', 'while', 'with', 'yield']\n"
     ]
    }
   ],
   "source": [
    "import keyword\n",
    "print(keyword.kwlist) # No puedes utilizar estas variables en Python"
   ]
  },
  {
   "cell_type": "code",
   "execution_count": 9,
   "id": "9d70b2fb",
   "metadata": {},
   "outputs": [],
   "source": [
    "# 30años = 30 no es correcto print(30años)// no puede empezzar por numero\n",
    "edad30 = 30 #correcto"
   ]
  },
  {
   "cell_type": "code",
   "execution_count": 11,
   "id": "bfcc04ef",
   "metadata": {},
   "outputs": [],
   "source": [
    "#ell@s = \"ellos\" no se puede utilizar este caracter especial"
   ]
  },
  {
   "cell_type": "code",
   "execution_count": 13,
   "id": "0077b467",
   "metadata": {},
   "outputs": [],
   "source": [
    "#edad jovenes = 20\n",
    "#edad jovenes no se puede utilizar espacios en programación"
   ]
  },
  {
   "cell_type": "code",
   "execution_count": 16,
   "id": "a860d078",
   "metadata": {},
   "outputs": [],
   "source": [
    "edadJovenes = 20 #camelcase\n",
    "EdadJovenes = 21 #snakecase\n",
    "edad_jovenes = 22 #otro tipo xD\n",
    "\n"
   ]
  },
  {
   "cell_type": "code",
   "execution_count": 17,
   "id": "8e20ce5a",
   "metadata": {},
   "outputs": [],
   "source": [
    "x = 20 #Asi es como debe representar una variable\n"
   ]
  },
  {
   "cell_type": "markdown",
   "id": "2dcf9b88",
   "metadata": {},
   "source": [
    "# Constantes"
   ]
  },
  {
   "cell_type": "code",
   "execution_count": 20,
   "id": "1c1242d7",
   "metadata": {},
   "outputs": [
    {
     "data": {
      "text/plain": [
       "100"
      ]
     },
     "execution_count": 20,
     "metadata": {},
     "output_type": "execute_result"
    }
   ],
   "source": [
    "cantidadpersonas = 100\n",
    "cantidadpersonas"
   ]
  },
  {
   "cell_type": "code",
   "execution_count": 21,
   "id": "22e91861",
   "metadata": {},
   "outputs": [
    {
     "data": {
      "text/plain": [
       "150"
      ]
     },
     "execution_count": 21,
     "metadata": {},
     "output_type": "execute_result"
    }
   ],
   "source": [
    "cantidadpersonas = 150\n",
    "cantidadpersonas"
   ]
  },
  {
   "cell_type": "code",
   "execution_count": 22,
   "id": "f69a2c5c",
   "metadata": {},
   "outputs": [
    {
     "data": {
      "text/plain": [
       "170"
      ]
     },
     "execution_count": 22,
     "metadata": {},
     "output_type": "execute_result"
    }
   ],
   "source": [
    "cantidadpersonas = 170\n",
    "cantidadpersonas"
   ]
  },
  {
   "cell_type": "code",
   "execution_count": 29,
   "id": "86cceb8c",
   "metadata": {},
   "outputs": [
    {
     "data": {
      "text/plain": [
       "3.14"
      ]
     },
     "execution_count": 29,
     "metadata": {},
     "output_type": "execute_result"
    }
   ],
   "source": [
    "PI = 3.14 #El valor no debe ser modificado si está está en mayusculas\n",
    "PI"
   ]
  },
  {
   "cell_type": "markdown",
   "id": "afeffd72",
   "metadata": {},
   "source": [
    "# Comentarios"
   ]
  },
  {
   "cell_type": "code",
   "execution_count": 30,
   "id": "bfc44e7d",
   "metadata": {},
   "outputs": [
    {
     "data": {
      "text/plain": [
       "'walter coto'"
      ]
     },
     "execution_count": 30,
     "metadata": {},
     "output_type": "execute_result"
    }
   ],
   "source": [
    "nombre = \"walter coto\" # almoadilla ---- esta variable contiene mi nombre\n",
    "nombre"
   ]
  },
  {
   "cell_type": "markdown",
   "id": "e26a805b",
   "metadata": {},
   "source": [
    "## no aparece por pantalla los comentarios\n"
   ]
  },
  {
   "cell_type": "code",
   "execution_count": 34,
   "id": "11d9e2e7",
   "metadata": {},
   "outputs": [],
   "source": [
    "edad = 23 #esto es una variable\n",
    "\n",
    "\n",
    "#cccccccc"
   ]
  },
  {
   "cell_type": "code",
   "execution_count": 36,
   "id": "7d9771ac",
   "metadata": {},
   "outputs": [],
   "source": [
    "#'''dsdsdd\n",
    "#'''sdsdsd"
   ]
  },
  {
   "cell_type": "code",
   "execution_count": 38,
   "id": "8b95db6b",
   "metadata": {},
   "outputs": [
    {
     "data": {
      "text/plain": [
       "'Tony'"
      ]
     },
     "execution_count": 38,
     "metadata": {},
     "output_type": "execute_result"
    }
   ],
   "source": [
    "nombre, apellido = \"Tony\", \"Stark\"\n",
    "nombre\n"
   ]
  },
  {
   "cell_type": "code",
   "execution_count": 39,
   "id": "cda0ec65",
   "metadata": {},
   "outputs": [
    {
     "data": {
      "text/plain": [
       "'Stark'"
      ]
     },
     "execution_count": 39,
     "metadata": {},
     "output_type": "execute_result"
    }
   ],
   "source": [
    "apellido\n"
   ]
  },
  {
   "cell_type": "markdown",
   "id": "15fb16d3",
   "metadata": {},
   "source": [
    "# Numeros"
   ]
  },
  {
   "cell_type": "code",
   "execution_count": 48,
   "id": "738dce18",
   "metadata": {},
   "outputs": [],
   "source": [
    "num1 = 40\n",
    "num2 = 99.99\n"
   ]
  },
  {
   "cell_type": "code",
   "execution_count": 49,
   "id": "0b90e623",
   "metadata": {},
   "outputs": [
    {
     "name": "stdout",
     "output_type": "stream",
     "text": [
      "<class 'int'>\n"
     ]
    }
   ],
   "source": [
    "print(type(int(num2))) #se cambia de float a int\n"
   ]
  },
  {
   "cell_type": "code",
   "execution_count": 51,
   "id": "40fde164",
   "metadata": {},
   "outputs": [
    {
     "name": "stdout",
     "output_type": "stream",
     "text": [
      "<class 'float'>\n"
     ]
    }
   ],
   "source": [
    "print(type(float(num1))) #se cambia de int a float"
   ]
  },
  {
   "cell_type": "markdown",
   "id": "d9295f58",
   "metadata": {},
   "source": [
    "# Operadores Aritmeticos"
   ]
  },
  {
   "cell_type": "code",
   "execution_count": 52,
   "id": "f7ae8446",
   "metadata": {},
   "outputs": [
    {
     "data": {
      "text/plain": [
       "4"
      ]
     },
     "execution_count": 52,
     "metadata": {},
     "output_type": "execute_result"
    }
   ],
   "source": [
    "2+2"
   ]
  },
  {
   "cell_type": "code",
   "execution_count": 54,
   "id": "af1a91e9",
   "metadata": {},
   "outputs": [
    {
     "data": {
      "text/plain": [
       "75"
      ]
     },
     "execution_count": 54,
     "metadata": {},
     "output_type": "execute_result"
    }
   ],
   "source": [
    "150-75"
   ]
  },
  {
   "cell_type": "code",
   "execution_count": 55,
   "id": "1aed17b9",
   "metadata": {},
   "outputs": [
    {
     "data": {
      "text/plain": [
       "100"
      ]
     },
     "execution_count": 55,
     "metadata": {},
     "output_type": "execute_result"
    }
   ],
   "source": [
    "10*10"
   ]
  },
  {
   "cell_type": "code",
   "execution_count": 56,
   "id": "580e69d6",
   "metadata": {},
   "outputs": [
    {
     "data": {
      "text/plain": [
       "8.333333333333334"
      ]
     },
     "execution_count": 56,
     "metadata": {},
     "output_type": "execute_result"
    }
   ],
   "source": [
    "25/3"
   ]
  },
  {
   "cell_type": "code",
   "execution_count": 58,
   "id": "4911a9c4",
   "metadata": {},
   "outputs": [
    {
     "data": {
      "text/plain": [
       "8"
      ]
     },
     "execution_count": 58,
     "metadata": {},
     "output_type": "execute_result"
    }
   ],
   "source": [
    "2**3 #potencia"
   ]
  },
  {
   "cell_type": "code",
   "execution_count": 60,
   "id": "2602fd4e",
   "metadata": {},
   "outputs": [
    {
     "data": {
      "text/plain": [
       "8"
      ]
     },
     "execution_count": 60,
     "metadata": {},
     "output_type": "execute_result"
    }
   ],
   "source": [
    "75//9 # se muestra la parte entera"
   ]
  },
  {
   "cell_type": "code",
   "execution_count": 62,
   "id": "813b87fd",
   "metadata": {},
   "outputs": [
    {
     "data": {
      "text/plain": [
       "0"
      ]
     },
     "execution_count": 62,
     "metadata": {},
     "output_type": "execute_result"
    }
   ],
   "source": [
    "100 % 100 #Resto de la división"
   ]
  },
  {
   "cell_type": "markdown",
   "id": "0a0dc6f9",
   "metadata": {},
   "source": [
    "# Operaciones Aritmeticas con Variables"
   ]
  },
  {
   "cell_type": "code",
   "execution_count": 65,
   "id": "6eaa07b1",
   "metadata": {},
   "outputs": [
    {
     "data": {
      "text/plain": [
       "15"
      ]
     },
     "execution_count": 65,
     "metadata": {},
     "output_type": "execute_result"
    }
   ],
   "source": [
    "num1 = 10\n",
    "num2 = 5\n",
    "num1 + num2\n"
   ]
  },
  {
   "cell_type": "code",
   "execution_count": 66,
   "id": "43780183",
   "metadata": {},
   "outputs": [
    {
     "data": {
      "text/plain": [
       "5"
      ]
     },
     "execution_count": 66,
     "metadata": {},
     "output_type": "execute_result"
    }
   ],
   "source": [
    "num1 - num2"
   ]
  },
  {
   "cell_type": "code",
   "execution_count": 67,
   "id": "9ab15b99",
   "metadata": {},
   "outputs": [
    {
     "data": {
      "text/plain": [
       "50"
      ]
     },
     "execution_count": 67,
     "metadata": {},
     "output_type": "execute_result"
    }
   ],
   "source": [
    "num1 * num2"
   ]
  },
  {
   "cell_type": "code",
   "execution_count": 68,
   "id": "5cfa2bf0",
   "metadata": {},
   "outputs": [
    {
     "data": {
      "text/plain": [
       "2.0"
      ]
     },
     "execution_count": 68,
     "metadata": {},
     "output_type": "execute_result"
    }
   ],
   "source": [
    "num1 / num2"
   ]
  },
  {
   "cell_type": "code",
   "execution_count": 69,
   "id": "1dd99029",
   "metadata": {},
   "outputs": [
    {
     "data": {
      "text/plain": [
       "100000"
      ]
     },
     "execution_count": 69,
     "metadata": {},
     "output_type": "execute_result"
    }
   ],
   "source": [
    "num1 ** num2"
   ]
  },
  {
   "cell_type": "code",
   "execution_count": 70,
   "id": "73c8a4de",
   "metadata": {},
   "outputs": [
    {
     "data": {
      "text/plain": [
       "2"
      ]
     },
     "execution_count": 70,
     "metadata": {},
     "output_type": "execute_result"
    }
   ],
   "source": [
    "num1 // num2"
   ]
  },
  {
   "cell_type": "code",
   "execution_count": 71,
   "id": "a0f6544c",
   "metadata": {},
   "outputs": [],
   "source": [
    "suma = num1 + num2"
   ]
  },
  {
   "cell_type": "code",
   "execution_count": 72,
   "id": "9646c32f",
   "metadata": {},
   "outputs": [],
   "source": [
    "resta = num1 - num2"
   ]
  },
  {
   "cell_type": "code",
   "execution_count": 73,
   "id": "3cf92c9c",
   "metadata": {},
   "outputs": [
    {
     "data": {
      "text/plain": [
       "15"
      ]
     },
     "execution_count": 73,
     "metadata": {},
     "output_type": "execute_result"
    }
   ],
   "source": [
    "suma"
   ]
  },
  {
   "cell_type": "code",
   "execution_count": 74,
   "id": "9b940ff0",
   "metadata": {},
   "outputs": [
    {
     "data": {
      "text/plain": [
       "5"
      ]
     },
     "execution_count": 74,
     "metadata": {},
     "output_type": "execute_result"
    }
   ],
   "source": [
    "resta"
   ]
  },
  {
   "cell_type": "markdown",
   "id": "d79bc21f",
   "metadata": {},
   "source": [
    "# Jerarquia de operaciones"
   ]
  },
  {
   "cell_type": "code",
   "execution_count": 9,
   "id": "4e9655de",
   "metadata": {},
   "outputs": [],
   "source": [
    "num1 = 100\n",
    "num2 = 50\n",
    "num3 = 25\n",
    "num4 = 10"
   ]
  },
  {
   "cell_type": "code",
   "execution_count": 5,
   "id": "4fd34333",
   "metadata": {},
   "outputs": [
    {
     "data": {
      "text/plain": [
       "1350"
      ]
     },
     "execution_count": 5,
     "metadata": {},
     "output_type": "execute_result"
    }
   ],
   "source": [
    "num1 + num2 * num3"
   ]
  },
  {
   "cell_type": "code",
   "execution_count": 6,
   "id": "af8e05a3",
   "metadata": {},
   "outputs": [
    {
     "data": {
      "text/plain": [
       "3750"
      ]
     },
     "execution_count": 6,
     "metadata": {},
     "output_type": "execute_result"
    }
   ],
   "source": [
    "(num1 + num2) * num3"
   ]
  },
  {
   "cell_type": "code",
   "execution_count": 10,
   "id": "14faa751",
   "metadata": {},
   "outputs": [
    {
     "data": {
      "text/plain": [
       "3740"
      ]
     },
     "execution_count": 10,
     "metadata": {},
     "output_type": "execute_result"
    }
   ],
   "source": [
    "((num1 + num2) * num3 - num4)"
   ]
  },
  {
   "cell_type": "code",
   "execution_count": 12,
   "id": "cf1e3d4d",
   "metadata": {},
   "outputs": [
    {
     "data": {
      "text/plain": [
       "2250"
      ]
     },
     "execution_count": 12,
     "metadata": {},
     "output_type": "execute_result"
    }
   ],
   "source": [
    "(num1 + num2) * (num3 - num4)"
   ]
  },
  {
   "cell_type": "code",
   "execution_count": 14,
   "id": "d6ac5af4",
   "metadata": {},
   "outputs": [
    {
     "data": {
      "text/plain": [
       "30.0"
      ]
     },
     "execution_count": 14,
     "metadata": {},
     "output_type": "execute_result"
    }
   ],
   "source": [
    "(num1 + num2) * (num3 - num4) / (num1 - num3)"
   ]
  },
  {
   "cell_type": "code",
   "execution_count": 15,
   "id": "6b7521fc",
   "metadata": {},
   "outputs": [],
   "source": [
    "# (num1 + num2) * (num3 - num4) / (num1 - num1) no se puede dividir por 0"
   ]
  },
  {
   "cell_type": "markdown",
   "id": "9a13d5ab",
   "metadata": {},
   "source": [
    "## Ejercicio 1"
   ]
  },
  {
   "cell_type": "code",
   "execution_count": 17,
   "id": "197e5f33",
   "metadata": {},
   "outputs": [
    {
     "data": {
      "text/plain": [
       "0.25"
      ]
     },
     "execution_count": 17,
     "metadata": {},
     "output_type": "execute_result"
    }
   ],
   "source": [
    "((((3+2)) / (2*5))**2)"
   ]
  },
  {
   "cell_type": "code",
   "execution_count": 20,
   "id": "76a7bea9",
   "metadata": {},
   "outputs": [],
   "source": [
    "calculo = pow(5, 2) # se eleva"
   ]
  },
  {
   "cell_type": "code",
   "execution_count": 22,
   "id": "50cd5a2a",
   "metadata": {},
   "outputs": [],
   "source": [
    "calculo1 = pow((((3+2)) / (2*5)), 2)"
   ]
  },
  {
   "cell_type": "code",
   "execution_count": 23,
   "id": "c7498bcb",
   "metadata": {},
   "outputs": [
    {
     "data": {
      "text/plain": [
       "0.25"
      ]
     },
     "execution_count": 23,
     "metadata": {},
     "output_type": "execute_result"
    }
   ],
   "source": [
    "calculo1 "
   ]
  },
  {
   "cell_type": "markdown",
   "id": "1e442c06",
   "metadata": {},
   "source": [
    "## Ejercicio 2"
   ]
  },
  {
   "cell_type": "code",
   "execution_count": 24,
   "id": "cf79632d",
   "metadata": {},
   "outputs": [
    {
     "data": {
      "text/plain": [
       "('El peso total es de ', 6626)"
      ]
     },
     "execution_count": 24,
     "metadata": {},
     "output_type": "execute_result"
    }
   ],
   "source": [
    "\"El peso total es de \", (23*112) + (54*75)"
   ]
  },
  {
   "cell_type": "markdown",
   "id": "882574df",
   "metadata": {},
   "source": [
    "# Cadenas de Texto"
   ]
  },
  {
   "cell_type": "code",
   "execution_count": 25,
   "id": "19718c03",
   "metadata": {},
   "outputs": [
    {
     "data": {
      "text/plain": [
       "'Hola Mundo'"
      ]
     },
     "execution_count": 25,
     "metadata": {},
     "output_type": "execute_result"
    }
   ],
   "source": [
    "\"Hola Mundo\""
   ]
  },
  {
   "cell_type": "code",
   "execution_count": 28,
   "id": "85bbf59f",
   "metadata": {},
   "outputs": [],
   "source": [
    "cadena = \"Esto es un ejemplo de cadena de texto\""
   ]
  },
  {
   "cell_type": "code",
   "execution_count": 29,
   "id": "94fbc4a5",
   "metadata": {},
   "outputs": [
    {
     "data": {
      "text/plain": [
       "'Esto es un ejemplo de cadena de texto'"
      ]
     },
     "execution_count": 29,
     "metadata": {},
     "output_type": "execute_result"
    }
   ],
   "source": [
    "cadena\n"
   ]
  },
  {
   "cell_type": "code",
   "execution_count": 32,
   "id": "0aa40471",
   "metadata": {},
   "outputs": [],
   "source": [
    "cadena1 = \"Esto es un \\'ejemplo\\' de cadena de texto\" # poner comillas"
   ]
  },
  {
   "cell_type": "code",
   "execution_count": 33,
   "id": "98e11c39",
   "metadata": {},
   "outputs": [
    {
     "data": {
      "text/plain": [
       "\"Esto es un 'ejemplo' de cadena de texto\""
      ]
     },
     "execution_count": 33,
     "metadata": {},
     "output_type": "execute_result"
    }
   ],
   "source": [
    "cadena1"
   ]
  },
  {
   "cell_type": "code",
   "execution_count": 53,
   "id": "1d6bed05",
   "metadata": {},
   "outputs": [],
   "source": [
    "#cadena3 = 'Esto es un t\\ ejemplo de cadena de texto'\n",
    "#cadena3"
   ]
  },
  {
   "cell_type": "code",
   "execution_count": 57,
   "id": "306cf531",
   "metadata": {},
   "outputs": [],
   "source": [
    "cadena = \"Hola walter \"\n",
    "cadena2 = \"Coto\"\n"
   ]
  },
  {
   "cell_type": "code",
   "execution_count": 58,
   "id": "7f39f2a5",
   "metadata": {},
   "outputs": [
    {
     "data": {
      "text/plain": [
       "'Hola walter Coto'"
      ]
     },
     "execution_count": 58,
     "metadata": {},
     "output_type": "execute_result"
    }
   ],
   "source": [
    "cadena + cadena2"
   ]
  },
  {
   "cell_type": "code",
   "execution_count": 60,
   "id": "bda57fd5",
   "metadata": {},
   "outputs": [
    {
     "data": {
      "text/plain": [
       "'CotoCotoCotoCotoCoto'"
      ]
     },
     "execution_count": 60,
     "metadata": {},
     "output_type": "execute_result"
    }
   ],
   "source": [
    "cadena2 * 5"
   ]
  },
  {
   "cell_type": "code",
   "execution_count": 65,
   "id": "4c873f89",
   "metadata": {},
   "outputs": [
    {
     "data": {
      "text/plain": [
       "'Hola usuario: Coto'"
      ]
     },
     "execution_count": 65,
     "metadata": {},
     "output_type": "execute_result"
    }
   ],
   "source": [
    "\"Hola usuario: \"+cadena2"
   ]
  },
  {
   "cell_type": "code",
   "execution_count": 73,
   "id": "1c76edfe",
   "metadata": {},
   "outputs": [],
   "source": [
    "numero = 1\n"
   ]
  },
  {
   "cell_type": "code",
   "execution_count": 77,
   "id": "72378ee5",
   "metadata": {},
   "outputs": [
    {
     "data": {
      "text/plain": [
       "str"
      ]
     },
     "execution_count": 77,
     "metadata": {},
     "output_type": "execute_result"
    }
   ],
   "source": [
    "type(str(numero))"
   ]
  },
  {
   "cell_type": "code",
   "execution_count": 79,
   "id": "5edab77d",
   "metadata": {},
   "outputs": [
    {
     "data": {
      "text/plain": [
       "(1, 'Hola Usuario: ', 'Coto')"
      ]
     },
     "execution_count": 79,
     "metadata": {},
     "output_type": "execute_result"
    }
   ],
   "source": [
    "numero, \"Hola Usuario: \",cadena2"
   ]
  },
  {
   "cell_type": "markdown",
   "id": "54614e2e",
   "metadata": {},
   "source": [
    "# Debanado de Cadenas"
   ]
  },
  {
   "cell_type": "code",
   "execution_count": 81,
   "id": "c19adb9b",
   "metadata": {},
   "outputs": [
    {
     "data": {
      "text/plain": [
       "'Este es un ejemplo de Substring (Debanado de cadenas)'"
      ]
     },
     "execution_count": 81,
     "metadata": {},
     "output_type": "execute_result"
    }
   ],
   "source": [
    "cadena = \"Este es un ejemplo de Substring (Debanado de cadenas)\"\n",
    "cadena"
   ]
  },
  {
   "cell_type": "code",
   "execution_count": 82,
   "id": "edf8815b",
   "metadata": {},
   "outputs": [
    {
     "data": {
      "text/plain": [
       "53"
      ]
     },
     "execution_count": 82,
     "metadata": {},
     "output_type": "execute_result"
    }
   ],
   "source": [
    "len(cadena)"
   ]
  },
  {
   "cell_type": "code",
   "execution_count": 87,
   "id": "4b46b896",
   "metadata": {},
   "outputs": [
    {
     "data": {
      "text/plain": [
       "' '"
      ]
     },
     "execution_count": 87,
     "metadata": {},
     "output_type": "execute_result"
    }
   ],
   "source": [
    "cadena[7] #Espacio"
   ]
  },
  {
   "cell_type": "code",
   "execution_count": 90,
   "id": "66143a5c",
   "metadata": {},
   "outputs": [
    {
     "data": {
      "text/plain": [
       "'Este es un ejemplo de Sub'"
      ]
     },
     "execution_count": 90,
     "metadata": {},
     "output_type": "execute_result"
    }
   ],
   "source": [
    "cadena[0 : 25]"
   ]
  },
  {
   "cell_type": "code",
   "execution_count": 91,
   "id": "2386163b",
   "metadata": {},
   "outputs": [
    {
     "data": {
      "text/plain": [
       "')'"
      ]
     },
     "execution_count": 91,
     "metadata": {},
     "output_type": "execute_result"
    }
   ],
   "source": [
    "cadena[-1]"
   ]
  },
  {
   "cell_type": "markdown",
   "id": "52d4e279",
   "metadata": {},
   "source": [
    "# Metodos de cadenas"
   ]
  },
  {
   "cell_type": "code",
   "execution_count": 92,
   "id": "d3bc78b0",
   "metadata": {},
   "outputs": [],
   "source": [
    "cadena = \"Estoy utilizando los metodos de Python\""
   ]
  },
  {
   "cell_type": "code",
   "execution_count": 94,
   "id": "b9588fea",
   "metadata": {},
   "outputs": [
    {
     "data": {
      "text/plain": [
       "'estoy utilizando los metodos de python'"
      ]
     },
     "execution_count": 94,
     "metadata": {},
     "output_type": "execute_result"
    }
   ],
   "source": [
    "cadena.lower()"
   ]
  },
  {
   "cell_type": "code",
   "execution_count": 98,
   "id": "b78401ba",
   "metadata": {},
   "outputs": [
    {
     "data": {
      "text/plain": [
       "'ESTOY UTILIZANDO LOS METODOS DE PYTHON'"
      ]
     },
     "execution_count": 98,
     "metadata": {},
     "output_type": "execute_result"
    }
   ],
   "source": [
    "cadena.upper()"
   ]
  },
  {
   "cell_type": "code",
   "execution_count": 99,
   "id": "6d688682",
   "metadata": {},
   "outputs": [
    {
     "data": {
      "text/plain": [
       "'Estoy utilizando los metodos de python'"
      ]
     },
     "execution_count": 99,
     "metadata": {},
     "output_type": "execute_result"
    }
   ],
   "source": [
    "cadena.capitalize() "
   ]
  },
  {
   "cell_type": "code",
   "execution_count": 100,
   "id": "1674884a",
   "metadata": {},
   "outputs": [
    {
     "data": {
      "text/plain": [
       "'Estoy Utilizando Los Metodos De Python'"
      ]
     },
     "execution_count": 100,
     "metadata": {},
     "output_type": "execute_result"
    }
   ],
   "source": [
    "cadena.title()"
   ]
  },
  {
   "cell_type": "code",
   "execution_count": 102,
   "id": "6b3601d9",
   "metadata": {},
   "outputs": [
    {
     "data": {
      "text/plain": [
       "'eSTOY UTILIZANDO LOS METODOS DE pYTHON'"
      ]
     },
     "execution_count": 102,
     "metadata": {},
     "output_type": "execute_result"
    }
   ],
   "source": [
    "cadena.swapcase()"
   ]
  },
  {
   "cell_type": "markdown",
   "id": "1a81eb82",
   "metadata": {},
   "source": [
    "# Ejercicio 1"
   ]
  },
  {
   "cell_type": "code",
   "execution_count": 112,
   "id": "8bb01c4b",
   "metadata": {},
   "outputs": [],
   "source": [
    "cadena = \"Te quiero solo como amigo\" # IMPRIME TE QUIERO\n",
    "cadena = \"Te quiero solo como amigo\" # IMPRIME AMIGO\n",
    "cadena = \"Te quiero solo como amigo\" # ALRREVES"
   ]
  },
  {
   "cell_type": "code",
   "execution_count": 106,
   "id": "396f673f",
   "metadata": {},
   "outputs": [
    {
     "data": {
      "text/plain": [
       "'Te quiero'"
      ]
     },
     "execution_count": 106,
     "metadata": {},
     "output_type": "execute_result"
    }
   ],
   "source": [
    "cadena [0 : 9]"
   ]
  },
  {
   "cell_type": "code",
   "execution_count": 108,
   "id": "091baaee",
   "metadata": {},
   "outputs": [
    {
     "data": {
      "text/plain": [
       "25"
      ]
     },
     "execution_count": 108,
     "metadata": {},
     "output_type": "execute_result"
    }
   ],
   "source": [
    "len(cadena)"
   ]
  },
  {
   "cell_type": "code",
   "execution_count": 111,
   "id": "ea4a5313",
   "metadata": {},
   "outputs": [
    {
     "data": {
      "text/plain": [
       "'amigo'"
      ]
     },
     "execution_count": 111,
     "metadata": {},
     "output_type": "execute_result"
    }
   ],
   "source": [
    "cadena [20 :25]"
   ]
  },
  {
   "cell_type": "code",
   "execution_count": 114,
   "id": "3e37ab50",
   "metadata": {},
   "outputs": [
    {
     "data": {
      "text/plain": [
       "'Te quiero solo como amigoogima omoc olos oreiuq eT'"
      ]
     },
     "execution_count": 114,
     "metadata": {},
     "output_type": "execute_result"
    }
   ],
   "source": [
    "cadena + cadena[: : -1]"
   ]
  },
  {
   "cell_type": "code",
   "execution_count": 115,
   "id": "1169aaa9",
   "metadata": {},
   "outputs": [
    {
     "data": {
      "text/plain": [
       "'ogima omoc olos oreiuq eT'"
      ]
     },
     "execution_count": 115,
     "metadata": {},
     "output_type": "execute_result"
    }
   ],
   "source": [
    "cadena[: : -1]"
   ]
  },
  {
   "cell_type": "markdown",
   "id": "5c073b29",
   "metadata": {},
   "source": [
    "# Ejercicio 2"
   ]
  },
  {
   "cell_type": "code",
   "execution_count": 116,
   "id": "0393442b",
   "metadata": {},
   "outputs": [],
   "source": [
    "palabra = \"Separado\"\n",
    "cadena = \"Este es el uso del metodo Replace\" \n",
    "#Todas las e MAYUSCULAS en cadena\n",
    "#Separa las palabras en palabra"
   ]
  },
  {
   "cell_type": "code",
   "execution_count": 119,
   "id": "c953227c",
   "metadata": {},
   "outputs": [
    {
     "data": {
      "text/plain": [
       "'EstE Es El uso dEl mEtodo REplacE'"
      ]
     },
     "execution_count": 119,
     "metadata": {},
     "output_type": "execute_result"
    }
   ],
   "source": [
    "cadena.replace(\"e\", \"E\")"
   ]
  },
  {
   "cell_type": "code",
   "execution_count": 120,
   "id": "d14409c0",
   "metadata": {},
   "outputs": [
    {
     "data": {
      "text/plain": [
       "',S,e,p,a,r,a,d,o,'"
      ]
     },
     "execution_count": 120,
     "metadata": {},
     "output_type": "execute_result"
    }
   ],
   "source": [
    "palabra.replace(\"\", \",\")"
   ]
  },
  {
   "cell_type": "markdown",
   "id": "6a837158",
   "metadata": {},
   "source": [
    "# Entrada salida de datos"
   ]
  },
  {
   "cell_type": "code",
   "execution_count": 1,
   "id": "3cce56bb",
   "metadata": {},
   "outputs": [
    {
     "name": "stdout",
     "output_type": "stream",
     "text": [
      "Ingresa tu nombre: Tony\n"
     ]
    }
   ],
   "source": [
    "nombre = input('Ingresa tu nombre: ')"
   ]
  },
  {
   "cell_type": "code",
   "execution_count": 2,
   "id": "18cbfba7",
   "metadata": {},
   "outputs": [
    {
     "name": "stdout",
     "output_type": "stream",
     "text": [
      "Ingresa tu edad: 31\n"
     ]
    }
   ],
   "source": [
    "edad = int(input('Ingresa tu edad: '))"
   ]
  },
  {
   "cell_type": "code",
   "execution_count": 3,
   "id": "d18ad57f",
   "metadata": {},
   "outputs": [
    {
     "name": "stdout",
     "output_type": "stream",
     "text": [
      "ingresa tu peso: 84.6\n"
     ]
    }
   ],
   "source": [
    "peso = float(input('ingresa tu peso: '))"
   ]
  },
  {
   "cell_type": "markdown",
   "id": "7fe9a840",
   "metadata": {},
   "source": [
    "# Ejercicio 1"
   ]
  },
  {
   "cell_type": "code",
   "execution_count": 2,
   "id": "9a44d5b5",
   "metadata": {},
   "outputs": [],
   "source": [
    "from math import sqrt #raices cuadradas"
   ]
  },
  {
   "cell_type": "code",
   "execution_count": 3,
   "id": "2b196167",
   "metadata": {},
   "outputs": [
    {
     "data": {
      "text/plain": [
       "10.0"
      ]
     },
     "execution_count": 3,
     "metadata": {},
     "output_type": "execute_result"
    }
   ],
   "source": [
    "sqrt(100)"
   ]
  },
  {
   "cell_type": "code",
   "execution_count": 13,
   "id": "f3660fbb",
   "metadata": {},
   "outputs": [
    {
     "name": "stdout",
     "output_type": "stream",
     "text": [
      "Ingresa el valor de A: 3\n"
     ]
    }
   ],
   "source": [
    "A = int(input(\"Ingresa el valor de A: \"))\n"
   ]
  },
  {
   "cell_type": "code",
   "execution_count": 14,
   "id": "f2f80d55",
   "metadata": {},
   "outputs": [
    {
     "name": "stdout",
     "output_type": "stream",
     "text": [
      "Ingresa el valor de B: -5\n"
     ]
    }
   ],
   "source": [
    "B = int(input(\"Ingresa el valor de B: \"))"
   ]
  },
  {
   "cell_type": "code",
   "execution_count": 15,
   "id": "0cf0cafa",
   "metadata": {},
   "outputs": [
    {
     "name": "stdout",
     "output_type": "stream",
     "text": [
      "Ingresa el valor de C: 2\n"
     ]
    }
   ],
   "source": [
    "C = int(input(\"Ingresa el valor de C: \"))"
   ]
  },
  {
   "cell_type": "code",
   "execution_count": 16,
   "id": "d93abe70",
   "metadata": {},
   "outputs": [],
   "source": [
    "x1 = 0\n",
    "x2 = 0"
   ]
  },
  {
   "cell_type": "code",
   "execution_count": 22,
   "id": "7b04db3c",
   "metadata": {},
   "outputs": [
    {
     "name": "stdout",
     "output_type": "stream",
     "text": [
      "La solucion es: \n",
      "x1 = 1.0 \n",
      "x2 = 0\n"
     ]
    }
   ],
   "source": [
    "if ((B**2)-(4*A*C)) < 0:\n",
    "    print(\"No se puede realizar porque no se puede sacar una raiz a un numero menor que 0\")\n",
    "else:\n",
    "    x1 = (-B + sqrt((B**2)-(4*A*C)))/(2*A)\n",
    "    X2 = (-B - sqrt((B**2)-(4*A*C)))/(2*A)\n",
    "    print(\"La solucion es: \\nx1 =\",x1, \"\\nx2 =\",x2)"
   ]
  },
  {
   "cell_type": "markdown",
   "id": "1c46a436",
   "metadata": {},
   "source": [
    "# Ejercicio 2"
   ]
  },
  {
   "cell_type": "code",
   "execution_count": 2,
   "id": "a3198e63",
   "metadata": {},
   "outputs": [],
   "source": [
    "# PP= (P1 + P2 +P3) / 3   PROM= (PP + 2*EP + 3*EF) / 6\n",
    "# DONDE: P1, P2, P3: PRACTICAS\n",
    "# PP: PROMEDIO DE PRACTICA\n",
    "# PROM: PROMEDIO\n",
    "#EP: examen parcial"
   ]
  },
  {
   "cell_type": "code",
   "execution_count": 15,
   "id": "cc27dd44",
   "metadata": {},
   "outputs": [
    {
     "name": "stdout",
     "output_type": "stream",
     "text": [
      "Ingrese el valor de la practica 1: 10\n"
     ]
    }
   ],
   "source": [
    "practica1 = (float(input(\"Ingrese el valor de la practica 1: \")))"
   ]
  },
  {
   "cell_type": "code",
   "execution_count": 16,
   "id": "9888db77",
   "metadata": {},
   "outputs": [
    {
     "name": "stdout",
     "output_type": "stream",
     "text": [
      "Ingrese el valor de la practica 2: 6\n"
     ]
    }
   ],
   "source": [
    "practica2 = (float(input(\"Ingrese el valor de la practica 2: \")))"
   ]
  },
  {
   "cell_type": "code",
   "execution_count": 17,
   "id": "f13b4892",
   "metadata": {},
   "outputs": [
    {
     "name": "stdout",
     "output_type": "stream",
     "text": [
      "Ingrese el valor de la practica 3: 10\n"
     ]
    }
   ],
   "source": [
    "practica3 = (float(input(\"Ingrese el valor de la practica 3: \")))"
   ]
  },
  {
   "cell_type": "code",
   "execution_count": 18,
   "id": "31b2c125",
   "metadata": {},
   "outputs": [
    {
     "name": "stdout",
     "output_type": "stream",
     "text": [
      "Ingrese el valor del examen parcial: 10\n"
     ]
    }
   ],
   "source": [
    "ExamenParcial = (float(input(\"Ingrese el valor del examen parcial: \")))"
   ]
  },
  {
   "cell_type": "code",
   "execution_count": 19,
   "id": "957d9e2f",
   "metadata": {},
   "outputs": [
    {
     "name": "stdout",
     "output_type": "stream",
     "text": [
      "Ingrese el valor del examen final: 8\n"
     ]
    }
   ],
   "source": [
    "ExamenFinal = (float(input(\"Ingrese el valor del examen final: \")))"
   ]
  },
  {
   "cell_type": "code",
   "execution_count": 20,
   "id": "0d70d420",
   "metadata": {},
   "outputs": [],
   "source": [
    "PromedioPractica = (practica1 + practica2 + practica3)/3"
   ]
  },
  {
   "cell_type": "code",
   "execution_count": 21,
   "id": "32c996bd",
   "metadata": {},
   "outputs": [],
   "source": [
    "PromedioFinal = ((PromedioPractica + (2*ExamenParcial)) + (3*ExamenFinal)) / 6"
   ]
  },
  {
   "cell_type": "code",
   "execution_count": 26,
   "id": "0ac8b61f",
   "metadata": {},
   "outputs": [
    {
     "name": "stdout",
     "output_type": "stream",
     "text": [
      "El Promedio de Practica del estudiante es de:\n",
      "  8.666666666666666 \n",
      " Y el promedio Final es de:\n",
      "  8.777777777777777\n"
     ]
    }
   ],
   "source": [
    "print(\"El Promedio de Practica del estudiante es de:\\n \",PromedioPractica, \"\\n Y el promedio Final es de:\\n \",PromedioFinal)"
   ]
  },
  {
   "cell_type": "markdown",
   "id": "c9d8ef89",
   "metadata": {},
   "source": [
    "# Mostrar datos"
   ]
  },
  {
   "cell_type": "code",
   "execution_count": 63,
   "id": "3b9f48bd",
   "metadata": {},
   "outputs": [
    {
     "name": "stdout",
     "output_type": "stream",
     "text": [
      "Ingresa tu nombre: Tony\n"
     ]
    }
   ],
   "source": [
    "nombre = input(\"Ingresa tu nombre: \")\n"
   ]
  },
  {
   "cell_type": "code",
   "execution_count": 64,
   "id": "b752b07b",
   "metadata": {},
   "outputs": [
    {
     "name": "stdout",
     "output_type": "stream",
     "text": [
      "Ingresa tu edad: 31\n"
     ]
    }
   ],
   "source": [
    "edad = input(\"Ingresa tu edad: \")"
   ]
  },
  {
   "cell_type": "code",
   "execution_count": 65,
   "id": "b801ed6d",
   "metadata": {},
   "outputs": [
    {
     "data": {
      "text/plain": [
       "('Tony', '31')"
      ]
     },
     "execution_count": 65,
     "metadata": {},
     "output_type": "execute_result"
    }
   ],
   "source": [
    "nombre, edad\n"
   ]
  },
  {
   "cell_type": "code",
   "execution_count": 66,
   "id": "20c1e9cc",
   "metadata": {},
   "outputs": [
    {
     "data": {
      "text/plain": [
       "'Tony31'"
      ]
     },
     "execution_count": 66,
     "metadata": {},
     "output_type": "execute_result"
    }
   ],
   "source": [
    "nombre+ edad # Es incorrecto hacer esto."
   ]
  },
  {
   "cell_type": "code",
   "execution_count": 67,
   "id": "efab814c",
   "metadata": {},
   "outputs": [
    {
     "data": {
      "text/plain": [
       "('Hola', 'Tony', 'tienes', '31')"
      ]
     },
     "execution_count": 67,
     "metadata": {},
     "output_type": "execute_result"
    }
   ],
   "source": [
    "\"Hola\", nombre, \"tienes\", edad"
   ]
  },
  {
   "cell_type": "code",
   "execution_count": 68,
   "id": "64f93373",
   "metadata": {},
   "outputs": [
    {
     "data": {
      "text/plain": [
       "'Hola Tony tienes 31 years'"
      ]
     },
     "execution_count": 68,
     "metadata": {},
     "output_type": "execute_result"
    }
   ],
   "source": [
    "\"Hola {} tienes {} years\".format(nombre, edad)"
   ]
  },
  {
   "cell_type": "markdown",
   "id": "aa006f18",
   "metadata": {},
   "source": [
    "# Ejercicio 1"
   ]
  },
  {
   "cell_type": "code",
   "execution_count": 70,
   "id": "84008204",
   "metadata": {},
   "outputs": [],
   "source": [
    "#Escribir un programa que solicite al usuario un vocal en minuscula,\n",
    "#y luego una letra en mayúsculas. El programa debe convertir la \n",
    "#letra en minúscula y la vocal en mayúscula, y al final, deben ser concatenadas ambas"
   ]
  },
  {
   "cell_type": "code",
   "execution_count": 84,
   "id": "84f769b4",
   "metadata": {},
   "outputs": [
    {
     "name": "stdout",
     "output_type": "stream",
     "text": [
      "Ingresa una vocal En MINUSCULA: a\n"
     ]
    }
   ],
   "source": [
    "vocal = input(\"Ingresa una vocal En MINUSCULA: \")\n"
   ]
  },
  {
   "cell_type": "code",
   "execution_count": 85,
   "id": "a1f7915c",
   "metadata": {},
   "outputs": [
    {
     "name": "stdout",
     "output_type": "stream",
     "text": [
      "Ingresa una consonante en MAYUSCULA: M\n"
     ]
    }
   ],
   "source": [
    "consonante = input(\"Ingresa una consonante en MAYUSCULA: \")"
   ]
  },
  {
   "cell_type": "code",
   "execution_count": 86,
   "id": "c94f5dae",
   "metadata": {},
   "outputs": [],
   "source": [
    "vocal = vocal.upper()\n"
   ]
  },
  {
   "cell_type": "code",
   "execution_count": 87,
   "id": "0f7309f7",
   "metadata": {},
   "outputs": [],
   "source": [
    "consonante = consonante.lower()\n"
   ]
  },
  {
   "cell_type": "code",
   "execution_count": 88,
   "id": "a5489a4f",
   "metadata": {},
   "outputs": [
    {
     "name": "stdout",
     "output_type": "stream",
     "text": [
      "La consonante fue: m \n",
      "La vocal fue: A\n"
     ]
    }
   ],
   "source": [
    "print(\"La consonante fue: {} \\nLa vocal fue: {}\".format(consonante, vocal))"
   ]
  },
  {
   "cell_type": "markdown",
   "id": "70c46d9f",
   "metadata": {},
   "source": [
    "# Ejercicio 2"
   ]
  },
  {
   "cell_type": "code",
   "execution_count": 89,
   "id": "f96d8d6c",
   "metadata": {},
   "outputs": [],
   "source": [
    "# Hacer un programa que pida al usuario su nombre, su edad y su sexoy muestre de la siguiente manera"
   ]
  },
  {
   "cell_type": "code",
   "execution_count": 90,
   "id": "e9dbfd1f",
   "metadata": {},
   "outputs": [
    {
     "name": "stdout",
     "output_type": "stream",
     "text": [
      "Ingresa tu nombre: Tony\n"
     ]
    }
   ],
   "source": [
    "nombre = input(\"Ingresa tu nombre: \")"
   ]
  },
  {
   "cell_type": "code",
   "execution_count": 92,
   "id": "21a9df8c",
   "metadata": {},
   "outputs": [
    {
     "name": "stdout",
     "output_type": "stream",
     "text": [
      "Ingresa tu edad: 31\n"
     ]
    }
   ],
   "source": [
    "edad = int(input(\"Ingresa tu edad: \"))"
   ]
  },
  {
   "cell_type": "code",
   "execution_count": 97,
   "id": "7d549047",
   "metadata": {},
   "outputs": [
    {
     "name": "stdout",
     "output_type": "stream",
     "text": [
      "Ingresa tu sexo: Masculino\n"
     ]
    }
   ],
   "source": [
    "sexo = input(\"Ingresa tu sexo: \")"
   ]
  },
  {
   "cell_type": "code",
   "execution_count": 98,
   "id": "9b3507aa",
   "metadata": {},
   "outputs": [
    {
     "name": "stdout",
     "output_type": "stream",
     "text": [
      "Te llamas: Tony\n",
      "Tu edad es: 31\n",
      "Eres: Masculino\n"
     ]
    }
   ],
   "source": [
    "print(\"Te llamas: {}\".format(nombre))\n",
    "print(\"Tu edad es: {}\".format(edad))\n",
    "print(\"Eres: {}\".format(sexo))"
   ]
  },
  {
   "cell_type": "code",
   "execution_count": 105,
   "id": "43574027",
   "metadata": {},
   "outputs": [
    {
     "name": "stdout",
     "output_type": "stream",
     "text": [
      "Te llamas: Tony \n",
      "Tu edad es: 31 \n",
      "Eres: Masculino\n"
     ]
    }
   ],
   "source": [
    "print(\"Te llamas: {} \\nTu edad es: {} \\nEres: {}\".format(nombre, edad, sexo))"
   ]
  },
  {
   "cell_type": "markdown",
   "id": "39d82e63",
   "metadata": {},
   "source": [
    "# Booleanos"
   ]
  },
  {
   "cell_type": "code",
   "execution_count": 106,
   "id": "a9257123",
   "metadata": {},
   "outputs": [],
   "source": [
    "verdadero = True\n",
    "falso = False"
   ]
  },
  {
   "cell_type": "code",
   "execution_count": 107,
   "id": "368c7620",
   "metadata": {},
   "outputs": [
    {
     "data": {
      "text/plain": [
       "bool"
      ]
     },
     "execution_count": 107,
     "metadata": {},
     "output_type": "execute_result"
    }
   ],
   "source": [
    "type(verdadero)"
   ]
  },
  {
   "cell_type": "markdown",
   "id": "acdea0c1",
   "metadata": {},
   "source": [
    "# Operadores Comparaciones"
   ]
  },
  {
   "cell_type": "code",
   "execution_count": 123,
   "id": "c1401425",
   "metadata": {},
   "outputs": [],
   "source": [
    "num1 = 1000\n",
    "num2 = 500\n",
    "num3 = 1000\n",
    "cadena = \"Comparaciones de strings\"\n",
    "cadena2 = \"Comparacion\""
   ]
  },
  {
   "cell_type": "code",
   "execution_count": 115,
   "id": "fa3c2641",
   "metadata": {},
   "outputs": [
    {
     "data": {
      "text/plain": [
       "True"
      ]
     },
     "execution_count": 115,
     "metadata": {},
     "output_type": "execute_result"
    }
   ],
   "source": [
    "num1 > num2"
   ]
  },
  {
   "cell_type": "code",
   "execution_count": 116,
   "id": "06a5498f",
   "metadata": {},
   "outputs": [
    {
     "data": {
      "text/plain": [
       "False"
      ]
     },
     "execution_count": 116,
     "metadata": {},
     "output_type": "execute_result"
    }
   ],
   "source": [
    "num2 > num1"
   ]
  },
  {
   "cell_type": "code",
   "execution_count": 117,
   "id": "348fd422",
   "metadata": {},
   "outputs": [
    {
     "data": {
      "text/plain": [
       "True"
      ]
     },
     "execution_count": 117,
     "metadata": {},
     "output_type": "execute_result"
    }
   ],
   "source": [
    "num1 >= num3"
   ]
  },
  {
   "cell_type": "code",
   "execution_count": 118,
   "id": "6958c5aa",
   "metadata": {},
   "outputs": [
    {
     "data": {
      "text/plain": [
       "False"
      ]
     },
     "execution_count": 118,
     "metadata": {},
     "output_type": "execute_result"
    }
   ],
   "source": [
    "num1 > num3"
   ]
  },
  {
   "cell_type": "code",
   "execution_count": 119,
   "id": "1d5c821b",
   "metadata": {},
   "outputs": [
    {
     "data": {
      "text/plain": [
       "True"
      ]
     },
     "execution_count": 119,
     "metadata": {},
     "output_type": "execute_result"
    }
   ],
   "source": [
    "num1 <= num3"
   ]
  },
  {
   "cell_type": "code",
   "execution_count": 120,
   "id": "6dd5dad6",
   "metadata": {},
   "outputs": [
    {
     "data": {
      "text/plain": [
       "False"
      ]
     },
     "execution_count": 120,
     "metadata": {},
     "output_type": "execute_result"
    }
   ],
   "source": [
    "num2 == num3"
   ]
  },
  {
   "cell_type": "code",
   "execution_count": 121,
   "id": "bab505c5",
   "metadata": {},
   "outputs": [
    {
     "data": {
      "text/plain": [
       "True"
      ]
     },
     "execution_count": 121,
     "metadata": {},
     "output_type": "execute_result"
    }
   ],
   "source": [
    "num1 == num3"
   ]
  },
  {
   "cell_type": "code",
   "execution_count": 122,
   "id": "39510254",
   "metadata": {},
   "outputs": [
    {
     "data": {
      "text/plain": [
       "True"
      ]
     },
     "execution_count": 122,
     "metadata": {},
     "output_type": "execute_result"
    }
   ],
   "source": [
    "num1 != num2 # Numeros diferentes"
   ]
  },
  {
   "cell_type": "code",
   "execution_count": 124,
   "id": "e5ca6918",
   "metadata": {},
   "outputs": [
    {
     "data": {
      "text/plain": [
       "False"
      ]
     },
     "execution_count": 124,
     "metadata": {},
     "output_type": "execute_result"
    }
   ],
   "source": [
    "cadena < cadena2"
   ]
  },
  {
   "cell_type": "code",
   "execution_count": 125,
   "id": "660a12bb",
   "metadata": {},
   "outputs": [
    {
     "data": {
      "text/plain": [
       "True"
      ]
     },
     "execution_count": 125,
     "metadata": {},
     "output_type": "execute_result"
    }
   ],
   "source": [
    "cadena != cadena2"
   ]
  },
  {
   "cell_type": "markdown",
   "id": "66c9e554",
   "metadata": {},
   "source": [
    "# Operadores logicos AND, OR, NOT"
   ]
  },
  {
   "cell_type": "code",
   "execution_count": 126,
   "id": "6d99b400",
   "metadata": {},
   "outputs": [
    {
     "data": {
      "text/plain": [
       "True"
      ]
     },
     "execution_count": 126,
     "metadata": {},
     "output_type": "execute_result"
    }
   ],
   "source": [
    "10 > 2"
   ]
  },
  {
   "cell_type": "code",
   "execution_count": 128,
   "id": "a39612e9",
   "metadata": {},
   "outputs": [
    {
     "data": {
      "text/plain": [
       "False"
      ]
     },
     "execution_count": 128,
     "metadata": {},
     "output_type": "execute_result"
    }
   ],
   "source": [
    "10 > 2 and 9 > 100 # 9 no es mayor que 100 LAS DOS CONDICIONES TIENEN QUE SER CORRECTAS"
   ]
  },
  {
   "cell_type": "code",
   "execution_count": 130,
   "id": "889391dc",
   "metadata": {},
   "outputs": [
    {
     "data": {
      "text/plain": [
       "True"
      ]
     },
     "execution_count": 130,
     "metadata": {},
     "output_type": "execute_result"
    }
   ],
   "source": [
    "10 > 2 and 10 == 10"
   ]
  },
  {
   "cell_type": "code",
   "execution_count": 131,
   "id": "143bec60",
   "metadata": {},
   "outputs": [
    {
     "data": {
      "text/plain": [
       "False"
      ]
     },
     "execution_count": 131,
     "metadata": {},
     "output_type": "execute_result"
    }
   ],
   "source": [
    "99 != 99 and 23 ==23"
   ]
  },
  {
   "cell_type": "code",
   "execution_count": 133,
   "id": "d6546d7d",
   "metadata": {},
   "outputs": [
    {
     "data": {
      "text/plain": [
       "True"
      ]
     },
     "execution_count": 133,
     "metadata": {},
     "output_type": "execute_result"
    }
   ],
   "source": [
    "88 > 70 or 88 == 88 # SOLO CON UNA CONDICION ES VERDADERO"
   ]
  },
  {
   "cell_type": "code",
   "execution_count": 134,
   "id": "82ffbace",
   "metadata": {},
   "outputs": [
    {
     "data": {
      "text/plain": [
       "False"
      ]
     },
     "execution_count": 134,
     "metadata": {},
     "output_type": "execute_result"
    }
   ],
   "source": [
    "not 100 == 100 # LA CONDICION  SE VULEVE CONTRARIO"
   ]
  },
  {
   "cell_type": "markdown",
   "id": "0e9446b9",
   "metadata": {},
   "source": [
    "# Metodos Booleanos"
   ]
  },
  {
   "cell_type": "code",
   "execution_count": 155,
   "id": "8c779227",
   "metadata": {},
   "outputs": [],
   "source": [
    "cadena = \"Estoy mostrando los metodos booleanos para las Strings\"\n",
    "cadena\n",
    "cadena2 = \"ANTONIO\"\n",
    "cadena3 = \"lol\"\n"
   ]
  },
  {
   "cell_type": "code",
   "execution_count": 148,
   "id": "e1f031e5",
   "metadata": {},
   "outputs": [
    {
     "data": {
      "text/plain": [
       "True"
      ]
     },
     "execution_count": 148,
     "metadata": {},
     "output_type": "execute_result"
    }
   ],
   "source": [
    "cadena.startswith(\"E\") # Se inicia con la E"
   ]
  },
  {
   "cell_type": "code",
   "execution_count": 149,
   "id": "593c326f",
   "metadata": {},
   "outputs": [
    {
     "data": {
      "text/plain": [
       "True"
      ]
     },
     "execution_count": 149,
     "metadata": {},
     "output_type": "execute_result"
    }
   ],
   "source": [
    "cadena.endswith(\"s\") # acaba en s "
   ]
  },
  {
   "cell_type": "code",
   "execution_count": 154,
   "id": "aee27fda",
   "metadata": {},
   "outputs": [
    {
     "data": {
      "text/plain": [
       "True"
      ]
     },
     "execution_count": 154,
     "metadata": {},
     "output_type": "execute_result"
    }
   ],
   "source": [
    "cadena2.isupper() # Esta todo MAYUSCULA"
   ]
  },
  {
   "cell_type": "code",
   "execution_count": 157,
   "id": "86f2278a",
   "metadata": {},
   "outputs": [
    {
     "data": {
      "text/plain": [
       "True"
      ]
     },
     "execution_count": 157,
     "metadata": {},
     "output_type": "execute_result"
    }
   ],
   "source": [
    "cadena3.islower()# Esta todo en minusculas"
   ]
  },
  {
   "cell_type": "markdown",
   "id": "3ca5713a",
   "metadata": {},
   "source": [
    "# Condicionales If y Else"
   ]
  },
  {
   "cell_type": "code",
   "execution_count": 167,
   "id": "6c0f4444",
   "metadata": {},
   "outputs": [
    {
     "name": "stdout",
     "output_type": "stream",
     "text": [
      "Dime tu edad: 18\n",
      "Tu eres mayor de edad. Puedes entra en la Discoteca\n"
     ]
    }
   ],
   "source": [
    "edad = int(input(\"Dime tu edad: \"))\n",
    "if edad >= 18: # Cuando la condicion es verdadera entra dentro del if\n",
    "    print(\"Tu eres mayor de edad. Puedes entra en la Discoteca\")\n",
    "else:\n",
    "    print(\"No eres mayor de edad, quedate en casa viendo los Lunies\")"
   ]
  },
  {
   "cell_type": "markdown",
   "id": "84b65326",
   "metadata": {},
   "source": [
    "# Elif"
   ]
  },
  {
   "cell_type": "code",
   "execution_count": 174,
   "id": "0f4b0205",
   "metadata": {},
   "outputs": [
    {
     "name": "stdout",
     "output_type": "stream",
     "text": [
      "¿Que jugador de futbol es sano?: Hierro\n",
      "Incorrecto, ese jugador va por el camino de Maradona\n"
     ]
    }
   ],
   "source": [
    "jugador = input(\"¿Que jugador de futbol es sano?: \")\n",
    "if jugador == \"Messi\":\n",
    "    print(\"Este jugador es demasiado bueno y sano para existir\")\n",
    "elif jugador == \"Ronaldo\":\n",
    "    print(\"Este jugador es muy bueno el bicho\")\n",
    "elif jugador == \"Neymar\":\n",
    "    print(\"Neymar es Sano, pero le hace falta potaje para engordar algo mas\")\n",
    "else:\n",
    "    print(\"Incorrecto, ese jugador va por el camino de Maradona\")\n",
    "\n",
    "\n"
   ]
  },
  {
   "cell_type": "markdown",
   "id": "711a2f14",
   "metadata": {},
   "source": [
    "# Condicionales Anidados"
   ]
  },
  {
   "cell_type": "code",
   "execution_count": 175,
   "id": "58037db2",
   "metadata": {},
   "outputs": [],
   "source": [
    "nombre = \"Maria\"\n",
    "edad = 18\n"
   ]
  },
  {
   "cell_type": "code",
   "execution_count": 185,
   "id": "b5239655",
   "metadata": {},
   "outputs": [
    {
     "name": "stdout",
     "output_type": "stream",
     "text": [
      "¿Cual es tu nombre: Toni\n",
      "¿Cual es tu edad?: 15\n",
      "Toni, eres buena gente pero no puedes pasar a la disco, Ven cuando cumplas 18\n"
     ]
    }
   ],
   "source": [
    "nombre = input(\"¿Cual es tu nombre: \")\n",
    "edad = int(input(\"¿Cual es tu edad?: \"))\n",
    "if nombre == \"Toni\":\n",
    "    if edad >= 18:\n",
    "        print(\"OK, eres Toni puedes pasar a la Disco\")\n",
    "        \n",
    "    else:\n",
    "        print(\"Toni, eres buena gente pero no puedes pasar a la disco, Ven cuando cumplas 18\")\n",
    "else:\n",
    "    print(\"No eres Toni, no puedes pasar\")"
   ]
  },
  {
   "cell_type": "markdown",
   "id": "207edbeb",
   "metadata": {},
   "source": [
    "# Listas"
   ]
  },
  {
   "cell_type": "code",
   "execution_count": 187,
   "id": "a80e7d23",
   "metadata": {},
   "outputs": [
    {
     "data": {
      "text/plain": [
       "list"
      ]
     },
     "execution_count": 187,
     "metadata": {},
     "output_type": "execute_result"
    }
   ],
   "source": [
    "lista = ['Python', 120, 'Nombre', 4.14, 6.28]\n",
    "type(lista)"
   ]
  },
  {
   "cell_type": "code",
   "execution_count": 189,
   "id": "48d0eee2",
   "metadata": {},
   "outputs": [
    {
     "data": {
      "text/plain": [
       "6.28"
      ]
     },
     "execution_count": 189,
     "metadata": {},
     "output_type": "execute_result"
    }
   ],
   "source": [
    "lista[4] # llamamos aun elemento"
   ]
  },
  {
   "cell_type": "code",
   "execution_count": 192,
   "id": "b924b3c1",
   "metadata": {},
   "outputs": [
    {
     "data": {
      "text/plain": [
       "5"
      ]
     },
     "execution_count": 192,
     "metadata": {},
     "output_type": "execute_result"
    }
   ],
   "source": [
    "len(lista) # del 0 al 4 == 5"
   ]
  },
  {
   "cell_type": "code",
   "execution_count": 196,
   "id": "e9ec7ac8",
   "metadata": {},
   "outputs": [
    {
     "data": {
      "text/plain": [
       "'python'"
      ]
     },
     "execution_count": 196,
     "metadata": {},
     "output_type": "execute_result"
    }
   ],
   "source": [
    "lista [0] = \"python\"\n",
    "lista[0] #Modificamos la lista\n"
   ]
  },
  {
   "cell_type": "code",
   "execution_count": 197,
   "id": "b1c91b25",
   "metadata": {},
   "outputs": [
    {
     "data": {
      "text/plain": [
       "['python', 120, 'Nombre', 4.14, 6.28]"
      ]
     },
     "execution_count": 197,
     "metadata": {},
     "output_type": "execute_result"
    }
   ],
   "source": [
    "lista"
   ]
  },
  {
   "cell_type": "markdown",
   "id": "69d09403",
   "metadata": {},
   "source": [
    "# Debanado de listas"
   ]
  },
  {
   "cell_type": "code",
   "execution_count": 198,
   "id": "b437d73e",
   "metadata": {},
   "outputs": [],
   "source": [
    "lista = [10, 20, 3.14, \"Tony\", \"Burgos\", 7, \"Estudiante\", \"cuaderno\"]"
   ]
  },
  {
   "cell_type": "code",
   "execution_count": 199,
   "id": "384de49e",
   "metadata": {},
   "outputs": [
    {
     "data": {
      "text/plain": [
       "7"
      ]
     },
     "execution_count": 199,
     "metadata": {},
     "output_type": "execute_result"
    }
   ],
   "source": [
    "lista[5]"
   ]
  },
  {
   "cell_type": "code",
   "execution_count": 200,
   "id": "b2906300",
   "metadata": {},
   "outputs": [
    {
     "data": {
      "text/plain": [
       "[10, 20, 3.14, 'Tony', 'Burgos']"
      ]
     },
     "execution_count": 200,
     "metadata": {},
     "output_type": "execute_result"
    }
   ],
   "source": [
    "lista[0 : 5]"
   ]
  },
  {
   "cell_type": "code",
   "execution_count": 201,
   "id": "c0e0f45f",
   "metadata": {},
   "outputs": [
    {
     "data": {
      "text/plain": [
       "[10, 20]"
      ]
     },
     "execution_count": 201,
     "metadata": {},
     "output_type": "execute_result"
    }
   ],
   "source": [
    "lista[ : 2]"
   ]
  },
  {
   "cell_type": "code",
   "execution_count": 202,
   "id": "1725b058",
   "metadata": {},
   "outputs": [
    {
     "data": {
      "text/plain": [
       "[20, 3.14, 'Tony', 'Burgos', 7, 'Estudiante', 'cuaderno']"
      ]
     },
     "execution_count": 202,
     "metadata": {},
     "output_type": "execute_result"
    }
   ],
   "source": [
    "lista[1 : ]"
   ]
  },
  {
   "cell_type": "code",
   "execution_count": 203,
   "id": "fc484d00",
   "metadata": {},
   "outputs": [
    {
     "data": {
      "text/plain": [
       "'cuaderno'"
      ]
     },
     "execution_count": 203,
     "metadata": {},
     "output_type": "execute_result"
    }
   ],
   "source": [
    "lista[-1]"
   ]
  },
  {
   "cell_type": "code",
   "execution_count": 205,
   "id": "549d6ed8",
   "metadata": {},
   "outputs": [
    {
     "data": {
      "text/plain": [
       "['Tony', 'Burgos', 7]"
      ]
     },
     "execution_count": 205,
     "metadata": {},
     "output_type": "execute_result"
    }
   ],
   "source": [
    "lista[-5 : -2]"
   ]
  },
  {
   "cell_type": "markdown",
   "id": "c88cd4b0",
   "metadata": {},
   "source": [
    "# Metodos listas"
   ]
  },
  {
   "cell_type": "code",
   "execution_count": 227,
   "id": "c2557023",
   "metadata": {},
   "outputs": [
    {
     "data": {
      "text/plain": [
       "[1, 2, 3, 4, 5]"
      ]
     },
     "execution_count": 227,
     "metadata": {},
     "output_type": "execute_result"
    }
   ],
   "source": [
    "lista = [1, 2, 3, 4, 5]\n",
    "lista"
   ]
  },
  {
   "cell_type": "code",
   "execution_count": 228,
   "id": "8cb3fa91",
   "metadata": {},
   "outputs": [
    {
     "data": {
      "text/plain": [
       "[1, 2, 3, 4, 5, 6]"
      ]
     },
     "execution_count": 228,
     "metadata": {},
     "output_type": "execute_result"
    }
   ],
   "source": [
    "lista.append(6)\n",
    "lista"
   ]
  },
  {
   "cell_type": "code",
   "execution_count": 229,
   "id": "d41eb716",
   "metadata": {},
   "outputs": [
    {
     "data": {
      "text/plain": [
       "[1, 2, 3, 4, 5, 6, 'Python']"
      ]
     },
     "execution_count": 229,
     "metadata": {},
     "output_type": "execute_result"
    }
   ],
   "source": [
    "lista.append(\"Python\") # Siempre va al final de la lista\n",
    "lista"
   ]
  },
  {
   "cell_type": "code",
   "execution_count": 230,
   "id": "79c67ea1",
   "metadata": {},
   "outputs": [
    {
     "data": {
      "text/plain": [
       "[1, 2, 2.5, 3, 4, 5, 6, 'Python']"
      ]
     },
     "execution_count": 230,
     "metadata": {},
     "output_type": "execute_result"
    }
   ],
   "source": [
    "lista.insert(2, 2.5)# añadimos posicion y valor\n",
    "lista"
   ]
  },
  {
   "cell_type": "code",
   "execution_count": 231,
   "id": "28b2d556",
   "metadata": {},
   "outputs": [
    {
     "data": {
      "text/plain": [
       "1"
      ]
     },
     "execution_count": 231,
     "metadata": {},
     "output_type": "execute_result"
    }
   ],
   "source": [
    "lista.count(5) #cuantas veces se repite el valor"
   ]
  },
  {
   "cell_type": "code",
   "execution_count": 232,
   "id": "e379e6b9",
   "metadata": {},
   "outputs": [
    {
     "data": {
      "text/plain": [
       "[1, 2, 2.5, 3, 4, 5, 6, 'Python', 5]"
      ]
     },
     "execution_count": 232,
     "metadata": {},
     "output_type": "execute_result"
    }
   ],
   "source": [
    "lista.append(5)\n",
    "lista"
   ]
  },
  {
   "cell_type": "code",
   "execution_count": 233,
   "id": "bca37fee",
   "metadata": {},
   "outputs": [
    {
     "data": {
      "text/plain": [
       "2"
      ]
     },
     "execution_count": 233,
     "metadata": {},
     "output_type": "execute_result"
    }
   ],
   "source": [
    "lista.count(5)"
   ]
  },
  {
   "cell_type": "code",
   "execution_count": 235,
   "id": "2519df72",
   "metadata": {},
   "outputs": [
    {
     "data": {
      "text/plain": [
       "5"
      ]
     },
     "execution_count": 235,
     "metadata": {},
     "output_type": "execute_result"
    }
   ],
   "source": [
    "lista.index(5) #busca la posicion del valor en su primera posicion"
   ]
  },
  {
   "cell_type": "code",
   "execution_count": 237,
   "id": "306d66d1",
   "metadata": {},
   "outputs": [],
   "source": [
    "lista1 = [2, 5, 4, 1, 0, 3]"
   ]
  },
  {
   "cell_type": "code",
   "execution_count": 241,
   "id": "93c54dcf",
   "metadata": {},
   "outputs": [
    {
     "data": {
      "text/plain": [
       "[0, 1, 2, 3, 4, 5]"
      ]
     },
     "execution_count": 241,
     "metadata": {},
     "output_type": "execute_result"
    }
   ],
   "source": [
    "lista1.sort()# ordena la lista\n",
    "lista1"
   ]
  },
  {
   "cell_type": "code",
   "execution_count": 244,
   "id": "4fbc8cff",
   "metadata": {},
   "outputs": [
    {
     "data": {
      "text/plain": [
       "[5, 4, 3, 2, 1, 0]"
      ]
     },
     "execution_count": 244,
     "metadata": {},
     "output_type": "execute_result"
    }
   ],
   "source": [
    "lista1.reverse()\n",
    "lista1"
   ]
  },
  {
   "cell_type": "code",
   "execution_count": 255,
   "id": "c27c8dc6",
   "metadata": {},
   "outputs": [
    {
     "data": {
      "text/plain": [
       "'alex'"
      ]
     },
     "execution_count": 255,
     "metadata": {},
     "output_type": "execute_result"
    }
   ],
   "source": [
    "lista2 = [\"Python\", 24, \"Rene\", \"alex\", 12]\n",
    "lista2[3]"
   ]
  },
  {
   "cell_type": "code",
   "execution_count": 256,
   "id": "a315c35a",
   "metadata": {},
   "outputs": [
    {
     "data": {
      "text/plain": [
       "['Python', 24, 'Rene', 'alex']"
      ]
     },
     "execution_count": 256,
     "metadata": {},
     "output_type": "execute_result"
    }
   ],
   "source": [
    "lista2.pop() #Elimina el ultimo valor de la lista\n",
    "lista2"
   ]
  },
  {
   "cell_type": "code",
   "execution_count": 257,
   "id": "82c7d96b",
   "metadata": {},
   "outputs": [
    {
     "data": {
      "text/plain": [
       "[24, 'Rene', 'alex']"
      ]
     },
     "execution_count": 257,
     "metadata": {},
     "output_type": "execute_result"
    }
   ],
   "source": [
    "lista2.remove(\"Python\") #Elimina un dato en espeficico de la lista\n",
    "lista2"
   ]
  },
  {
   "cell_type": "code",
   "execution_count": 258,
   "id": "d6f84539",
   "metadata": {},
   "outputs": [],
   "source": [
    "lista4 = [1, 2, 3]\n",
    "lista5 = [4, 5, 6]"
   ]
  },
  {
   "cell_type": "code",
   "execution_count": 260,
   "id": "5e915e52",
   "metadata": {},
   "outputs": [
    {
     "data": {
      "text/plain": [
       "[1, 2, 3, 4, 5, 6]"
      ]
     },
     "execution_count": 260,
     "metadata": {},
     "output_type": "execute_result"
    }
   ],
   "source": [
    "lista6 = lista4 + lista5 #No se puede multiplicar, ni restar, ni dividir, solo sumar\n",
    "lista6"
   ]
  },
  {
   "cell_type": "code",
   "execution_count": 263,
   "id": "ea4f863d",
   "metadata": {},
   "outputs": [
    {
     "data": {
      "text/plain": [
       "('Este es la lista 6: ', [1, 2, 3, 4, 5, 6])"
      ]
     },
     "execution_count": 263,
     "metadata": {},
     "output_type": "execute_result"
    }
   ],
   "source": [
    "\"Este es la lista 6: \", lista6"
   ]
  },
  {
   "cell_type": "code",
   "execution_count": 265,
   "id": "262a2632",
   "metadata": {},
   "outputs": [
    {
     "data": {
      "text/plain": [
       "list"
      ]
     },
     "execution_count": 265,
     "metadata": {},
     "output_type": "execute_result"
    }
   ],
   "source": [
    "lista7 = []\n",
    "type(lista7)"
   ]
  },
  {
   "cell_type": "markdown",
   "id": "17de632a",
   "metadata": {},
   "source": [
    "# Ejercicio 1"
   ]
  },
  {
   "cell_type": "code",
   "execution_count": 270,
   "id": "f620a5ef",
   "metadata": {},
   "outputs": [],
   "source": [
    "# Sustituir el valor de los dos primeros datos en la lista"
   ]
  },
  {
   "cell_type": "code",
   "execution_count": 271,
   "id": "5b6835c9",
   "metadata": {},
   "outputs": [],
   "source": [
    "lista8 = [20, 50, \"Curso\", \"Python\", 3.14]\n"
   ]
  },
  {
   "cell_type": "code",
   "execution_count": 272,
   "id": "f7758b93",
   "metadata": {},
   "outputs": [
    {
     "name": "stdout",
     "output_type": "stream",
     "text": [
      "Ingrese el primer valor para sustituir en el espacio 1: 1\n"
     ]
    }
   ],
   "source": [
    "palabra1 = input(\"Ingrese el primer valor para sustituir en el espacio 1: \")"
   ]
  },
  {
   "cell_type": "code",
   "execution_count": 273,
   "id": "8d24fb6d",
   "metadata": {},
   "outputs": [
    {
     "name": "stdout",
     "output_type": "stream",
     "text": [
      "Ingrese el primer valor para sustituir en el espacio 2: 2\n"
     ]
    }
   ],
   "source": [
    "palabra2 = input(\"Ingrese el primer valor para sustituir en el espacio 2: \")"
   ]
  },
  {
   "cell_type": "code",
   "execution_count": 274,
   "id": "573c9fa0",
   "metadata": {},
   "outputs": [
    {
     "data": {
      "text/plain": [
       "['1', '2', 'Curso', 'Python', 3.14]"
      ]
     },
     "execution_count": 274,
     "metadata": {},
     "output_type": "execute_result"
    }
   ],
   "source": [
    "lista8[0] = palabra1\n",
    "lista8[1] = palabra2\n",
    "lista8"
   ]
  },
  {
   "cell_type": "markdown",
   "id": "b1db5827",
   "metadata": {},
   "source": [
    "# Ejercicio 2"
   ]
  },
  {
   "cell_type": "code",
   "execution_count": 275,
   "id": "fbf261be",
   "metadata": {},
   "outputs": [],
   "source": [
    "#Escribe una lista que tenga los numeros del 1 al 10. Luego, debes hacer\n",
    "#que los datos que están en las posiciones 4, 7 y 9 sean multiplicados por 2, \n",
    "#por ultimo mostrar la lista nueva con los datos nuevos"
   ]
  },
  {
   "cell_type": "code",
   "execution_count": 287,
   "id": "7cae0b9d",
   "metadata": {},
   "outputs": [],
   "source": [
    "lista10 = [1, 2, 3, 4, 5, 6, 7, 8, 9, 10]"
   ]
  },
  {
   "cell_type": "code",
   "execution_count": 289,
   "id": "30b0719f",
   "metadata": {},
   "outputs": [
    {
     "data": {
      "text/plain": [
       "[1, 2, 3, 8, 5, 6, 14, 8, 18, 10]"
      ]
     },
     "execution_count": 289,
     "metadata": {},
     "output_type": "execute_result"
    }
   ],
   "source": [
    "lista10[3] = lista10[3]*2\n",
    "lista10[6] = lista10[6]*2\n",
    "lista10[8] = lista10[8]*2\n",
    "lista10"
   ]
  },
  {
   "cell_type": "markdown",
   "id": "b349df62",
   "metadata": {},
   "source": [
    "# Diccionarios"
   ]
  },
  {
   "cell_type": "code",
   "execution_count": 292,
   "id": "03e18eb0",
   "metadata": {},
   "outputs": [
    {
     "data": {
      "text/plain": [
       "{'Usuarios': 'TonyB', 'password': 12345}"
      ]
     },
     "execution_count": 292,
     "metadata": {},
     "output_type": "execute_result"
    }
   ],
   "source": [
    "diccionario = {'Usuarios' : \"TonyB\", 'password' : 12345}\n",
    "diccionario\n",
    "#Clave, Valor, Clave, valor"
   ]
  },
  {
   "cell_type": "code",
   "execution_count": 294,
   "id": "656ee325",
   "metadata": {},
   "outputs": [
    {
     "data": {
      "text/plain": [
       "dict"
      ]
     },
     "execution_count": 294,
     "metadata": {},
     "output_type": "execute_result"
    }
   ],
   "source": [
    "type(diccionario) # no se puede poner la misma clave para distinto valor"
   ]
  },
  {
   "cell_type": "code",
   "execution_count": 296,
   "id": "30bc3ab4",
   "metadata": {},
   "outputs": [
    {
     "data": {
      "text/plain": [
       "{'Nombre': 'Tony', 'Apellido': 'Burgos', 'Estatura': 1.82}"
      ]
     },
     "execution_count": 296,
     "metadata": {},
     "output_type": "execute_result"
    }
   ],
   "source": [
    "diccionario1 = {'Nombre' : 'Tony', 'Apellido' : 'Burgos', 'Estatura': 1.82}\n",
    "diccionario1"
   ]
  },
  {
   "cell_type": "code",
   "execution_count": 298,
   "id": "b97b8103",
   "metadata": {},
   "outputs": [
    {
     "data": {
      "text/plain": [
       "dict_keys(['Nombre', 'Apellido', 'Estatura'])"
      ]
     },
     "execution_count": 298,
     "metadata": {},
     "output_type": "execute_result"
    }
   ],
   "source": [
    "diccionario1.keys() # Te devuelve las claves"
   ]
  },
  {
   "cell_type": "code",
   "execution_count": 300,
   "id": "3c129c82",
   "metadata": {},
   "outputs": [
    {
     "data": {
      "text/plain": [
       "dict_values(['Tony', 'Burgos', 1.82])"
      ]
     },
     "execution_count": 300,
     "metadata": {},
     "output_type": "execute_result"
    }
   ],
   "source": [
    "diccionario1.values() # Te devueve los Valores"
   ]
  },
  {
   "cell_type": "code",
   "execution_count": 302,
   "id": "4d6991cd",
   "metadata": {},
   "outputs": [
    {
     "data": {
      "text/plain": [
       "1.82"
      ]
     },
     "execution_count": 302,
     "metadata": {},
     "output_type": "execute_result"
    }
   ],
   "source": [
    "diccionario1[\"Estatura\"] # Llamar a una clave"
   ]
  },
  {
   "cell_type": "code",
   "execution_count": 304,
   "id": "548cc1c9",
   "metadata": {},
   "outputs": [
    {
     "data": {
      "text/plain": [
       "{'Nombre': 'Tony', 'Apellido': 'Burgos', 'Estatura': 1.82, 'Peso': '58 Kg'}"
      ]
     },
     "execution_count": 304,
     "metadata": {},
     "output_type": "execute_result"
    }
   ],
   "source": [
    "diccionario1[\"Peso\"] = \"58 Kg\"# Se agrega nueva clave con su valor\n",
    "diccionario1"
   ]
  },
  {
   "cell_type": "code",
   "execution_count": 306,
   "id": "9f41ac55",
   "metadata": {},
   "outputs": [
    {
     "data": {
      "text/plain": [
       "{'Nombre': 'Jesus', 'Apellido': 'Burgos', 'Estatura': 1.82, 'Peso': '58 Kg'}"
      ]
     },
     "execution_count": 306,
     "metadata": {},
     "output_type": "execute_result"
    }
   ],
   "source": [
    "diccionario1 [\"Nombre\"] = \"Jesus\" #Se cambia valores\n",
    "diccionario1"
   ]
  },
  {
   "cell_type": "code",
   "execution_count": 307,
   "id": "8b52a690",
   "metadata": {},
   "outputs": [
    {
     "data": {
      "text/plain": [
       "{1: 2, 2: 3, 3: 4}"
      ]
     },
     "execution_count": 307,
     "metadata": {},
     "output_type": "execute_result"
    }
   ],
   "source": [
    "diccionario2 = {1 : 2, 2 : 3, 3 : 4}\n",
    "diccionario2"
   ]
  },
  {
   "cell_type": "code",
   "execution_count": 308,
   "id": "68f06630",
   "metadata": {},
   "outputs": [
    {
     "data": {
      "text/plain": [
       "{1: 2, 2: 3}"
      ]
     },
     "execution_count": 308,
     "metadata": {},
     "output_type": "execute_result"
    }
   ],
   "source": [
    "diccionario2.pop(3) # Elimina la calve con valor\n",
    "diccionario2"
   ]
  },
  {
   "cell_type": "code",
   "execution_count": 310,
   "id": "762e45e7",
   "metadata": {},
   "outputs": [
    {
     "data": {
      "text/plain": [
       "{}"
      ]
     },
     "execution_count": 310,
     "metadata": {},
     "output_type": "execute_result"
    }
   ],
   "source": [
    "diccionario2.clear() # Limpia el diccionario\n",
    "diccionario2"
   ]
  },
  {
   "cell_type": "code",
   "execution_count": 314,
   "id": "3064a20f",
   "metadata": {},
   "outputs": [
    {
     "data": {
      "text/plain": [
       "{1: 2, 2: 3, 3: 4}"
      ]
     },
     "execution_count": 314,
     "metadata": {},
     "output_type": "execute_result"
    }
   ],
   "source": [
    "diccionario2 = {1 : 2, 2 : 3, 3 : 4}\n",
    "diccionario2"
   ]
  },
  {
   "cell_type": "code",
   "execution_count": 318,
   "id": "8e07b526",
   "metadata": {},
   "outputs": [
    {
     "name": "stdout",
     "output_type": "stream",
     "text": [
      "3\n"
     ]
    }
   ],
   "source": [
    "diccionario2.get(2)\n",
    "print(diccionario2.get(2)) # Trae valores"
   ]
  },
  {
   "cell_type": "code",
   "execution_count": 320,
   "id": "92435329",
   "metadata": {},
   "outputs": [
    {
     "data": {
      "text/plain": [
       "{1: 2, 2: 3, 3: 4, 4: 5}"
      ]
     },
     "execution_count": 320,
     "metadata": {},
     "output_type": "execute_result"
    }
   ],
   "source": [
    "diccionario2.setdefault(4, 5) #añade clave y valor\n",
    "diccionario2"
   ]
  },
  {
   "cell_type": "code",
   "execution_count": 322,
   "id": "bf608b4f",
   "metadata": {},
   "outputs": [],
   "source": [
    "diccionario3 = {4 : 5, 5 : 6, 6 : 7}"
   ]
  },
  {
   "cell_type": "code",
   "execution_count": 325,
   "id": "462cf74e",
   "metadata": {},
   "outputs": [
    {
     "data": {
      "text/plain": [
       "{1: 2, 2: 3, 3: 4, 4: 5, 5: 6, 6: 7}"
      ]
     },
     "execution_count": 325,
     "metadata": {},
     "output_type": "execute_result"
    }
   ],
   "source": [
    "diccionario2.update(diccionario3) # Une dos diccionarios\n",
    "diccionario2"
   ]
  },
  {
   "cell_type": "code",
   "execution_count": 326,
   "id": "7fa564f9",
   "metadata": {},
   "outputs": [
    {
     "data": {
      "text/plain": [
       "{1: 2, 2: 3, 3: 4, 4: 5, 5: 6, 6: 7}"
      ]
     },
     "execution_count": 326,
     "metadata": {},
     "output_type": "execute_result"
    }
   ],
   "source": [
    "diccionario2.copy()\n",
    "diccionario2"
   ]
  },
  {
   "cell_type": "markdown",
   "id": "68973f5b",
   "metadata": {},
   "source": [
    "# Ejercicio 1"
   ]
  },
  {
   "cell_type": "code",
   "execution_count": 327,
   "id": "b94e852b",
   "metadata": {},
   "outputs": [],
   "source": [
    "# En el siguiente diccionrio se encuentra algunos capitales de los paises en \n",
    "# el mundo, debes realizar un programa que pida un pais al usuario y muestre\n",
    "# la capital de ese pais, en dado caso el pais no este en el diccionario,\n",
    "# se debe mostrar un mensaje diciendo que este pais no se encuentra.\n"
   ]
  },
  {
   "cell_type": "code",
   "execution_count": 328,
   "id": "25b23ad5",
   "metadata": {},
   "outputs": [],
   "source": [
    "#{\"Guatemala\" : \"Cuidad de Guatemala\", \"Honduras\" : \"Honduras\", \"Nicaragua\" : \"Managua\", \"Costa Rica\" : \"San Jose\", \"Panama\" : \"Panama\", \"Argentina\" : \"Buenos Aires\", \"Colombia\" : \"Bogotá\", \"Venezuela\" : \"Caracas\"}, \"España\" : \"Madrid\""
   ]
  },
  {
   "cell_type": "code",
   "execution_count": 332,
   "id": "4464e634",
   "metadata": {},
   "outputs": [
    {
     "data": {
      "text/plain": [
       "{'Guatemala': 'Cuidad de Guatemala',\n",
       " 'Honduras': 'Tegucigalpa',\n",
       " 'Nicaragua': 'Managua',\n",
       " 'Costa Rica': 'San Jose',\n",
       " 'Panama': 'Panama',\n",
       " 'Argentina': 'Buenos Aires',\n",
       " 'Colombia': 'Bogota',\n",
       " 'Venezuela': 'Caracas',\n",
       " 'España': 'Madrid'}"
      ]
     },
     "execution_count": 332,
     "metadata": {},
     "output_type": "execute_result"
    }
   ],
   "source": [
    "diccionario4 = {\"Guatemala\" : \"Cuidad de Guatemala\", \"Honduras\" : \"Tegucigalpa\", \"Nicaragua\" : \"Managua\", \"Costa Rica\" : \"San Jose\", \"Panama\" : \"Panama\", \"Argentina\" : \"Buenos Aires\", \"Colombia\" : \"Bogota\", \"Venezuela\" : \"Caracas\", \"España\" : \"Madrid\"}\n",
    "diccionario4"
   ]
  },
  {
   "cell_type": "code",
   "execution_count": 341,
   "id": "52c9b7ee",
   "metadata": {},
   "outputs": [
    {
     "name": "stdout",
     "output_type": "stream",
     "text": [
      "Ingrese un país para conocer su capital: Guatemala\n"
     ]
    }
   ],
   "source": [
    "pais = input(\"Ingrese un país para conocer su capital: \")\n"
   ]
  },
  {
   "cell_type": "code",
   "execution_count": 342,
   "id": "a73777e7",
   "metadata": {},
   "outputs": [],
   "source": [
    "letra = pais.capitalize() in diccionario4"
   ]
  },
  {
   "cell_type": "code",
   "execution_count": 343,
   "id": "af648cb3",
   "metadata": {},
   "outputs": [
    {
     "name": "stdout",
     "output_type": "stream",
     "text": [
      "Cuidad de Guatemala\n"
     ]
    }
   ],
   "source": [
    "if letra == True:\n",
    "    print(diccionario4[pais.capitalize()])\n",
    "else:\n",
    "    print(\"El pais no se encuentra en el diccionario\")"
   ]
  },
  {
   "cell_type": "markdown",
   "id": "ef022da6",
   "metadata": {},
   "source": [
    "# Ejercicio 2"
   ]
  },
  {
   "cell_type": "code",
   "execution_count": 344,
   "id": "2e1e37a1",
   "metadata": {},
   "outputs": [],
   "source": [
    "# Programa que al introducir el numero salga el jugador"
   ]
  },
  {
   "cell_type": "code",
   "execution_count": 347,
   "id": "a7fcc661",
   "metadata": {},
   "outputs": [],
   "source": [
    "diccionario10 = {\n",
    "    1 : \"Casillas\", 15 : \"Ramos\",\n",
    "    11 : \"Caddevila\", 14 : \"Xabi Alonso\",\n",
    "    3 : \"Pique\", 5 : \"Puyol\",\n",
    "    16 : \"Busquets\", 8 : \"Xavi Hernandez\",\n",
    "    18 : \"Pedro\", 6 : \"Iniesta\",\n",
    "    7 : \"Villa\"\n",
    "    \n",
    "}"
   ]
  },
  {
   "cell_type": "code",
   "execution_count": 360,
   "id": "c830f445",
   "metadata": {},
   "outputs": [
    {
     "name": "stdout",
     "output_type": "stream",
     "text": [
      "Ingresa el numero de jugador: 15\n"
     ]
    }
   ],
   "source": [
    "OpcionJugador = int(input(\"Ingresa el numero de jugador: \"))"
   ]
  },
  {
   "cell_type": "code",
   "execution_count": 361,
   "id": "82ffe735",
   "metadata": {},
   "outputs": [
    {
     "name": "stdout",
     "output_type": "stream",
     "text": [
      "Ramos\n"
     ]
    }
   ],
   "source": [
    "if OpcionJugador in diccionario10:\n",
    "    print(diccionario10[OpcionJugador])\n",
    "else:\n",
    "    print(\"No es un numero dentro del diccionario\")"
   ]
  },
  {
   "cell_type": "markdown",
   "id": "89e677e7",
   "metadata": {},
   "source": [
    "# Conjuntos"
   ]
  },
  {
   "cell_type": "code",
   "execution_count": 364,
   "id": "2c173a35",
   "metadata": {},
   "outputs": [],
   "source": [
    "conjunto = {1 , 2, 3, 4, 5}"
   ]
  },
  {
   "cell_type": "code",
   "execution_count": 365,
   "id": "7158c986",
   "metadata": {},
   "outputs": [
    {
     "data": {
      "text/plain": [
       "set"
      ]
     },
     "execution_count": 365,
     "metadata": {},
     "output_type": "execute_result"
    }
   ],
   "source": [
    "type(conjunto) #SET ES CONJUNTO"
   ]
  },
  {
   "cell_type": "code",
   "execution_count": 366,
   "id": "5897a83d",
   "metadata": {},
   "outputs": [
    {
     "data": {
      "text/plain": [
       "types.GenericAlias"
      ]
     },
     "execution_count": 366,
     "metadata": {},
     "output_type": "execute_result"
    }
   ],
   "source": [
    "conjunto1 = set[(1, 2, 3, 4, 5)]\n",
    "type(conjunto1)"
   ]
  },
  {
   "cell_type": "code",
   "execution_count": 367,
   "id": "c825c6b9",
   "metadata": {},
   "outputs": [
    {
     "data": {
      "text/plain": [
       "tuple"
      ]
     },
     "execution_count": 367,
     "metadata": {},
     "output_type": "execute_result"
    }
   ],
   "source": [
    "conjunto2 = (1, 2, 3, 4, 5)\n",
    "type(conjunto2)"
   ]
  },
  {
   "cell_type": "code",
   "execution_count": 368,
   "id": "c0512c04",
   "metadata": {},
   "outputs": [
    {
     "data": {
      "text/plain": [
       "set"
      ]
     },
     "execution_count": 368,
     "metadata": {},
     "output_type": "execute_result"
    }
   ],
   "source": [
    "conjunto3 = set((1, 2, 3, 4, 5))\n",
    "type(conjunto3)"
   ]
  },
  {
   "cell_type": "code",
   "execution_count": 373,
   "id": "ca0d7d13",
   "metadata": {},
   "outputs": [
    {
     "name": "stdout",
     "output_type": "stream",
     "text": [
      "{1, 2, 3, 4, 5}\n",
      "[1, 1, 2, 3, 4, 5]\n"
     ]
    }
   ],
   "source": [
    "conjunto = {1, 1,  2, 3, 3, 4, 4, 5} \n",
    "lista = [1, 1, 2, 3, 4, 5]\n",
    "print(conjunto)    #NO SE MUESTRA LOS REPETIDOS\n",
    "print(lista)"
   ]
  },
  {
   "cell_type": "code",
   "execution_count": 374,
   "id": "4a9a258d",
   "metadata": {},
   "outputs": [
    {
     "data": {
      "text/plain": [
       "{1, 2, 3, 4, 5, 20}"
      ]
     },
     "execution_count": 374,
     "metadata": {},
     "output_type": "execute_result"
    }
   ],
   "source": [
    "conjunto.add(20) #Añade al conjunto\n",
    "conjunto"
   ]
  },
  {
   "cell_type": "code",
   "execution_count": 375,
   "id": "e53a9ad8",
   "metadata": {},
   "outputs": [
    {
     "data": {
      "text/plain": [
       "{2, 3, 4, 5, 20}"
      ]
     },
     "execution_count": 375,
     "metadata": {},
     "output_type": "execute_result"
    }
   ],
   "source": [
    "conjunto.remove(1)\n",
    "conjunto"
   ]
  },
  {
   "cell_type": "code",
   "execution_count": 376,
   "id": "ac7277cf",
   "metadata": {},
   "outputs": [
    {
     "data": {
      "text/plain": [
       "{3, 4, 5, 20}"
      ]
     },
     "execution_count": 376,
     "metadata": {},
     "output_type": "execute_result"
    }
   ],
   "source": [
    "conjunto.discard(2)\n",
    "conjunto"
   ]
  },
  {
   "cell_type": "code",
   "execution_count": 377,
   "id": "079ad7bf",
   "metadata": {},
   "outputs": [
    {
     "data": {
      "text/plain": [
       "{4, 5, 20}"
      ]
     },
     "execution_count": 377,
     "metadata": {},
     "output_type": "execute_result"
    }
   ],
   "source": [
    "conjunto.pop() #Se elimina el primero\n",
    "conjunto"
   ]
  },
  {
   "cell_type": "code",
   "execution_count": 378,
   "id": "a7f7f165",
   "metadata": {},
   "outputs": [
    {
     "data": {
      "text/plain": [
       "{1, 2, 3, 4, 5, 20}"
      ]
     },
     "execution_count": 378,
     "metadata": {},
     "output_type": "execute_result"
    }
   ],
   "source": [
    "conjunto.update([1, 2, 3])\n",
    "conjunto"
   ]
  },
  {
   "cell_type": "code",
   "execution_count": 379,
   "id": "92407996",
   "metadata": {},
   "outputs": [
    {
     "data": {
      "text/plain": [
       "set()"
      ]
     },
     "execution_count": 379,
     "metadata": {},
     "output_type": "execute_result"
    }
   ],
   "source": [
    "conjunto.clear()\n",
    "conjunto"
   ]
  },
  {
   "cell_type": "markdown",
   "id": "9ceed169",
   "metadata": {},
   "source": [
    "# Tuplas"
   ]
  },
  {
   "cell_type": "code",
   "execution_count": 2,
   "id": "1c1ab5aa",
   "metadata": {},
   "outputs": [
    {
     "data": {
      "text/plain": [
       "tuple"
      ]
     },
     "execution_count": 2,
     "metadata": {},
     "output_type": "execute_result"
    }
   ],
   "source": [
    "tupla = (1, 2, 3, 4, 5)\n",
    "type(tupla)"
   ]
  },
  {
   "cell_type": "code",
   "execution_count": 6,
   "id": "58b6ff47",
   "metadata": {},
   "outputs": [
    {
     "data": {
      "text/plain": [
       "tuple"
      ]
     },
     "execution_count": 6,
     "metadata": {},
     "output_type": "execute_result"
    }
   ],
   "source": [
    "tupla1 = 6, 7, 8, 9, 10\n",
    "type(tupla1)"
   ]
  },
  {
   "cell_type": "code",
   "execution_count": 4,
   "id": "b3b88a83",
   "metadata": {},
   "outputs": [
    {
     "data": {
      "text/plain": [
       "3"
      ]
     },
     "execution_count": 4,
     "metadata": {},
     "output_type": "execute_result"
    }
   ],
   "source": [
    "tupla[2]"
   ]
  },
  {
   "cell_type": "code",
   "execution_count": 8,
   "id": "fcf2855a",
   "metadata": {},
   "outputs": [
    {
     "data": {
      "text/plain": [
       "(1, 2, 3)"
      ]
     },
     "execution_count": 8,
     "metadata": {},
     "output_type": "execute_result"
    }
   ],
   "source": [
    "tupla[0 : 3]"
   ]
  },
  {
   "cell_type": "code",
   "execution_count": 7,
   "id": "562fdbc6",
   "metadata": {},
   "outputs": [
    {
     "data": {
      "text/plain": [
       "(1, 2, 3, 4, 5, 6, 7, 8, 9, 10)"
      ]
     },
     "execution_count": 7,
     "metadata": {},
     "output_type": "execute_result"
    }
   ],
   "source": [
    "tupla + tupla1"
   ]
  },
  {
   "cell_type": "markdown",
   "id": "35a79b38",
   "metadata": {},
   "source": [
    "# Ejercicio 1"
   ]
  },
  {
   "cell_type": "code",
   "execution_count": 9,
   "id": "31a80d4f",
   "metadata": {},
   "outputs": [],
   "source": [
    "# Escribir una tupla con los meses del año, luego, pide al usuario un numero, el que haya ingresado, es el mes que debe mostrar en la tupla"
   ]
  },
  {
   "cell_type": "code",
   "execution_count": 11,
   "id": "17139f34",
   "metadata": {},
   "outputs": [],
   "source": [
    "tupla = (\"enero\", \"febrero\", \"marzo\", \"abril\", \"mayo\", \"junio\", \"julio\", \"agosto\", \"septiembre\", \"octubre\", \"noviembre\", \"diciembre\")"
   ]
  },
  {
   "cell_type": "code",
   "execution_count": 12,
   "id": "4ba2518b",
   "metadata": {},
   "outputs": [
    {
     "name": "stdout",
     "output_type": "stream",
     "text": [
      "Ingresa tu mes: 1\n"
     ]
    }
   ],
   "source": [
    "opcionmes = int(input(\"Ingresa tu mes: \"))"
   ]
  },
  {
   "cell_type": "code",
   "execution_count": 13,
   "id": "dd5d4630",
   "metadata": {},
   "outputs": [
    {
     "data": {
      "text/plain": [
       "('El mes correspondiente es: ', 'enero')"
      ]
     },
     "execution_count": 13,
     "metadata": {},
     "output_type": "execute_result"
    }
   ],
   "source": [
    "\"El mes correspondiente es: \", tupla[opcionmes-1]"
   ]
  },
  {
   "cell_type": "markdown",
   "id": "2d8f9fd4",
   "metadata": {},
   "source": [
    "# Bucles, while"
   ]
  },
  {
   "cell_type": "code",
   "execution_count": 17,
   "id": "c3bb73d5",
   "metadata": {},
   "outputs": [
    {
     "name": "stdout",
     "output_type": "stream",
     "text": [
      "Estoy iterando, voy por el salto: 0.5\n",
      "Estoy iterando, voy por el salto: 1.0\n",
      "Estoy iterando, voy por el salto: 1.5\n",
      "Estoy iterando, voy por el salto: 2.0\n",
      "Estoy iterando, voy por el salto: 2.5\n",
      "Estoy iterando, voy por el salto: 3.0\n",
      "Estoy iterando, voy por el salto: 3.5\n",
      "Estoy iterando, voy por el salto: 4.0\n",
      "Estoy iterando, voy por el salto: 4.5\n",
      "Estoy iterando, voy por el salto: 5.0\n",
      "Estoy iterando, voy por el salto: 5.5\n",
      "Estoy iterando, voy por el salto: 6.0\n",
      "Estoy iterando, voy por el salto: 6.5\n",
      "Estoy iterando, voy por el salto: 7.0\n",
      "Estoy iterando, voy por el salto: 7.5\n",
      "Estoy iterando, voy por el salto: 8.0\n",
      "Estoy iterando, voy por el salto: 8.5\n",
      "Estoy iterando, voy por el salto: 9.0\n",
      "Estoy iterando, voy por el salto: 9.5\n",
      "Estoy iterando, voy por el salto: 10.0\n"
     ]
    }
   ],
   "source": [
    "i = 0 #Empieza desde 0\n",
    "while i < 10:\n",
    "    i += 0.5 #empieza el contador desde 1 // Empieza por el numero indicado\n",
    "    print(\"Estoy iterando, voy por el salto: {}\".format(i))"
   ]
  },
  {
   "cell_type": "markdown",
   "id": "39fa3179",
   "metadata": {},
   "source": [
    "# Ejercicio 1"
   ]
  },
  {
   "cell_type": "code",
   "execution_count": 1,
   "id": "24d19ad7",
   "metadata": {},
   "outputs": [],
   "source": [
    "# Escribir un programa que pida un numero al usuario y muestre las tablas de multiplicar de ese numero"
   ]
  },
  {
   "cell_type": "code",
   "execution_count": 2,
   "id": "76f53127",
   "metadata": {},
   "outputs": [
    {
     "name": "stdout",
     "output_type": "stream",
     "text": [
      "Ingresa un numero para saber su tabla: 9\n"
     ]
    }
   ],
   "source": [
    "numero = int(input(\"Ingresa un numero para saber su tabla: \"))"
   ]
  },
  {
   "cell_type": "code",
   "execution_count": 3,
   "id": "2006ab84",
   "metadata": {},
   "outputs": [],
   "source": [
    "i = 0\n",
    "multi = 0"
   ]
  },
  {
   "cell_type": "code",
   "execution_count": 4,
   "id": "25dab2ed",
   "metadata": {},
   "outputs": [
    {
     "name": "stdout",
     "output_type": "stream",
     "text": [
      "9 x 0 = 0\n",
      "9 x 1 = 9\n",
      "9 x 2 = 18\n",
      "9 x 3 = 27\n",
      "9 x 4 = 36\n",
      "9 x 5 = 45\n",
      "9 x 6 = 54\n",
      "9 x 7 = 63\n",
      "9 x 8 = 72\n",
      "9 x 9 = 81\n",
      "9 x 10 = 90\n"
     ]
    }
   ],
   "source": [
    "while i <= 10:\n",
    "    multi = numero * i\n",
    "    print(\"{} x {} = {}\".format(numero, i, multi))\n",
    "    i += 1"
   ]
  },
  {
   "cell_type": "markdown",
   "id": "09e51b07",
   "metadata": {},
   "source": [
    "# Ejercicio 2"
   ]
  },
  {
   "cell_type": "code",
   "execution_count": 5,
   "id": "761ce41e",
   "metadata": {},
   "outputs": [],
   "source": [
    "# Escribir un programa que pregunte al usuario su edad y muestre por pantalla\n",
    "# todos los años que ha cumplido ( desde 1 hasta su edad)"
   ]
  },
  {
   "cell_type": "code",
   "execution_count": 6,
   "id": "8be8bd77",
   "metadata": {},
   "outputs": [
    {
     "name": "stdout",
     "output_type": "stream",
     "text": [
      "Digita tu edad, para mostrarte tu anios31\n"
     ]
    }
   ],
   "source": [
    "edad = int(input(\"Digita tu edad, para mostrarte tu anios: \"))"
   ]
  },
  {
   "cell_type": "code",
   "execution_count": 8,
   "id": "a8e2e09f",
   "metadata": {},
   "outputs": [],
   "source": [
    "i = 1\n"
   ]
  },
  {
   "cell_type": "code",
   "execution_count": 10,
   "id": "a9df92a0",
   "metadata": {},
   "outputs": [
    {
     "name": "stdout",
     "output_type": "stream",
     "text": [
      "Has cumplido: 1 anios\n",
      "Has cumplido: 2 anios\n",
      "Has cumplido: 3 anios\n",
      "Has cumplido: 4 anios\n",
      "Has cumplido: 5 anios\n",
      "Has cumplido: 6 anios\n",
      "Has cumplido: 7 anios\n",
      "Has cumplido: 8 anios\n",
      "Has cumplido: 9 anios\n",
      "Has cumplido: 10 anios\n",
      "Has cumplido: 11 anios\n",
      "Has cumplido: 12 anios\n",
      "Has cumplido: 13 anios\n",
      "Has cumplido: 14 anios\n",
      "Has cumplido: 15 anios\n",
      "Has cumplido: 16 anios\n",
      "Has cumplido: 17 anios\n",
      "Has cumplido: 18 anios\n",
      "Has cumplido: 19 anios\n",
      "Has cumplido: 20 anios\n",
      "Has cumplido: 21 anios\n",
      "Has cumplido: 22 anios\n",
      "Has cumplido: 23 anios\n",
      "Has cumplido: 24 anios\n",
      "Has cumplido: 25 anios\n",
      "Has cumplido: 26 anios\n",
      "Has cumplido: 27 anios\n",
      "Has cumplido: 28 anios\n",
      "Has cumplido: 29 anios\n",
      "Has cumplido: 30 anios\n"
     ]
    }
   ],
   "source": [
    "while i != edad:\n",
    "    print(\"Has cumplido: {} anios\".format(i))\n",
    "    i += 1"
   ]
  },
  {
   "cell_type": "markdown",
   "id": "bd97a101",
   "metadata": {},
   "source": [
    "# Bucles, for"
   ]
  },
  {
   "cell_type": "code",
   "execution_count": 11,
   "id": "55e65d0e",
   "metadata": {},
   "outputs": [
    {
     "data": {
      "text/plain": [
       "list"
      ]
     },
     "execution_count": 11,
     "metadata": {},
     "output_type": "execute_result"
    }
   ],
   "source": [
    "lista = [\"Uno\", \"Dos\", \"Tres\"]\n",
    "type(lista)"
   ]
  },
  {
   "cell_type": "code",
   "execution_count": 12,
   "id": "764556c1",
   "metadata": {},
   "outputs": [
    {
     "name": "stdout",
     "output_type": "stream",
     "text": [
      "Uno\n",
      "Dos\n",
      "Tres\n"
     ]
    }
   ],
   "source": [
    "for i in lista:\n",
    "    print(i)"
   ]
  },
  {
   "cell_type": "code",
   "execution_count": 13,
   "id": "b56b14fc",
   "metadata": {},
   "outputs": [
    {
     "data": {
      "text/plain": [
       "tuple"
      ]
     },
     "execution_count": 13,
     "metadata": {},
     "output_type": "execute_result"
    }
   ],
   "source": [
    "tupla = 1, 2, 3, 4, 5\n",
    "type(tupla)"
   ]
  },
  {
   "cell_type": "code",
   "execution_count": 14,
   "id": "bd46a217",
   "metadata": {},
   "outputs": [
    {
     "name": "stdout",
     "output_type": "stream",
     "text": [
      "1\n",
      "2\n",
      "3\n",
      "4\n",
      "5\n"
     ]
    }
   ],
   "source": [
    "for j in tupla:\n",
    "    print(j)"
   ]
  },
  {
   "cell_type": "code",
   "execution_count": 17,
   "id": "22e1378c",
   "metadata": {},
   "outputs": [
    {
     "name": "stdout",
     "output_type": "stream",
     "text": [
      "1\n",
      "2\n",
      "3\n",
      "4\n",
      "5\n",
      "6\n",
      "7\n",
      "8\n",
      "9\n",
      "10\n"
     ]
    }
   ],
   "source": [
    "for g in range(1, 11): # FOR en RANGE imprime solo hasta un mumero menos de la derecha.\n",
    "    print(g)\n",
    "    "
   ]
  },
  {
   "cell_type": "code",
   "execution_count": 24,
   "id": "6935b48e",
   "metadata": {},
   "outputs": [
    {
     "name": "stdout",
     "output_type": "stream",
     "text": [
      "0\n",
      "2\n",
      "4\n",
      "6\n",
      "8\n",
      "10\n"
     ]
    }
   ],
   "source": [
    "for q in range(0, 11, 2): # Va saltando numeros de dos en dos por el ultimo numero(2)\n",
    "    print(q)"
   ]
  },
  {
   "cell_type": "markdown",
   "id": "688c6b46",
   "metadata": {},
   "source": [
    "# Break y Continue"
   ]
  },
  {
   "cell_type": "code",
   "execution_count": 25,
   "id": "5633a053",
   "metadata": {},
   "outputs": [
    {
     "name": "stdout",
     "output_type": "stream",
     "text": [
      "1\n",
      "2\n",
      "3\n",
      "4\n",
      "5\n",
      "6\n",
      "7\n",
      "8\n",
      "9\n",
      "10\n"
     ]
    }
   ],
   "source": [
    "for i in range(1, 11):\n",
    "    print(i)"
   ]
  },
  {
   "cell_type": "code",
   "execution_count": 27,
   "id": "8142122d",
   "metadata": {},
   "outputs": [
    {
     "name": "stdout",
     "output_type": "stream",
     "text": [
      "1\n",
      "2\n",
      "3\n",
      "4\n",
      "5\n"
     ]
    }
   ],
   "source": [
    "for i in range(1, 11): #Parará en el numero 5 por el (break)\n",
    "    print(i)\n",
    "    if i == 5:\n",
    "        break"
   ]
  },
  {
   "cell_type": "code",
   "execution_count": 28,
   "id": "71787a96",
   "metadata": {},
   "outputs": [
    {
     "name": "stdout",
     "output_type": "stream",
     "text": [
      "1\n",
      "2\n",
      "3\n",
      "4\n",
      "5\n",
      "7\n",
      "8\n",
      "9\n",
      "10\n"
     ]
    }
   ],
   "source": [
    "for i in range(1, 11): #Omite el numero y contua con la lista\n",
    "    if i == 6:\n",
    "        continue\n",
    "    print(i)"
   ]
  },
  {
   "cell_type": "markdown",
   "id": "ad3598dd",
   "metadata": {},
   "source": [
    "# Ejercicio 1"
   ]
  },
  {
   "cell_type": "code",
   "execution_count": 29,
   "id": "e61848f0",
   "metadata": {},
   "outputs": [],
   "source": [
    "#Imprimir por pantalla los numeros del 1 al 10, luego, pedir al usuario dos numeros y mostrar el rango de numeros entre ambas cifras"
   ]
  },
  {
   "cell_type": "code",
   "execution_count": 31,
   "id": "87d6141b",
   "metadata": {},
   "outputs": [
    {
     "name": "stdout",
     "output_type": "stream",
     "text": [
      "1\n",
      "2\n",
      "3\n",
      "4\n",
      "5\n",
      "6\n",
      "7\n",
      "8\n",
      "9\n",
      "10\n",
      "Ingresa la primera cifra: 5\n"
     ]
    }
   ],
   "source": [
    "for i in range(1, 11):\n",
    "    print(i)\n",
    "num1 = int(input(\"Ingresa la primera cifra: \"))"
   ]
  },
  {
   "cell_type": "code",
   "execution_count": 32,
   "id": "966f11ad",
   "metadata": {},
   "outputs": [
    {
     "name": "stdout",
     "output_type": "stream",
     "text": [
      "Ingresa la segunda cifra: 20\n"
     ]
    }
   ],
   "source": [
    "num2 = int(input(\"Ingresa la segunda cifra: \"))"
   ]
  },
  {
   "cell_type": "code",
   "execution_count": 34,
   "id": "5125eb20",
   "metadata": {},
   "outputs": [
    {
     "name": "stdout",
     "output_type": "stream",
     "text": [
      "5\n",
      "6\n",
      "7\n",
      "8\n",
      "9\n",
      "10\n",
      "11\n",
      "12\n",
      "13\n",
      "14\n",
      "15\n",
      "16\n",
      "17\n",
      "18\n",
      "19\n",
      "20\n"
     ]
    }
   ],
   "source": [
    "for i in range(num1, num2 + 1):\n",
    "    print(i)"
   ]
  },
  {
   "cell_type": "markdown",
   "id": "35823f7a",
   "metadata": {},
   "source": [
    "# Ejercicio 2"
   ]
  },
  {
   "cell_type": "code",
   "execution_count": 30,
   "id": "5189b3bb",
   "metadata": {},
   "outputs": [],
   "source": [
    "#Pedir al usuario que ingrese 2 numeros, después, se debe mostrar el rango de esos 2 números, pero, solo imprimiendo los números que sean impares"
   ]
  },
  {
   "cell_type": "code",
   "execution_count": null,
   "id": "f972b686",
   "metadata": {},
   "outputs": [],
   "source": [
    "num1 = int(input(\"Ingresa el primer numero: \"))"
   ]
  },
  {
   "cell_type": "code",
   "execution_count": null,
   "id": "57a90485",
   "metadata": {},
   "outputs": [],
   "source": [
    "num2 = int(input(\"Ingresa el segundo numero: \"))"
   ]
  },
  {
   "cell_type": "code",
   "execution_count": 35,
   "id": "e2f5e2cf",
   "metadata": {},
   "outputs": [
    {
     "name": "stdout",
     "output_type": "stream",
     "text": [
      "5\n",
      "7\n",
      "9\n",
      "11\n",
      "13\n",
      "15\n",
      "17\n",
      "19\n"
     ]
    }
   ],
   "source": [
    "for i in range(num1, num2 + 1):\n",
    "    if i % 2 == 0:\n",
    "        continue\n",
    "    print(i)"
   ]
  },
  {
   "cell_type": "markdown",
   "id": "14618a3b",
   "metadata": {},
   "source": [
    "# Funciones "
   ]
  },
  {
   "cell_type": "code",
   "execution_count": 37,
   "id": "67a02fb7",
   "metadata": {},
   "outputs": [
    {
     "data": {
      "text/plain": [
       "str"
      ]
     },
     "execution_count": 37,
     "metadata": {},
     "output_type": "execute_result"
    }
   ],
   "source": [
    "num = \"70\"\n",
    "type(num) # te devuelve str en el numero"
   ]
  },
  {
   "cell_type": "code",
   "execution_count": 39,
   "id": "5031d024",
   "metadata": {},
   "outputs": [
    {
     "data": {
      "text/plain": [
       "int"
      ]
     },
     "execution_count": 39,
     "metadata": {},
     "output_type": "execute_result"
    }
   ],
   "source": [
    "type(int(num)) # hago el dato tipo int"
   ]
  },
  {
   "cell_type": "code",
   "execution_count": 40,
   "id": "7c7bedda",
   "metadata": {},
   "outputs": [
    {
     "data": {
      "text/plain": [
       "float"
      ]
     },
     "execution_count": 40,
     "metadata": {},
     "output_type": "execute_result"
    }
   ],
   "source": [
    "type(float(num)) #hago que sea float"
   ]
  },
  {
   "cell_type": "code",
   "execution_count": 41,
   "id": "a4ba7f25",
   "metadata": {},
   "outputs": [
    {
     "data": {
      "text/plain": [
       "list"
      ]
     },
     "execution_count": 41,
     "metadata": {},
     "output_type": "execute_result"
    }
   ],
   "source": [
    "lista = [12, 60, 70, 1, -2]\n",
    "type(lista)"
   ]
  },
  {
   "cell_type": "code",
   "execution_count": 43,
   "id": "24a65e18",
   "metadata": {},
   "outputs": [
    {
     "data": {
      "text/plain": [
       "5"
      ]
     },
     "execution_count": 43,
     "metadata": {},
     "output_type": "execute_result"
    }
   ],
   "source": [
    "len(lista) # cantidad de numero dentro de la lista"
   ]
  },
  {
   "cell_type": "code",
   "execution_count": 44,
   "id": "4264dfc1",
   "metadata": {},
   "outputs": [
    {
     "data": {
      "text/plain": [
       "70"
      ]
     },
     "execution_count": 44,
     "metadata": {},
     "output_type": "execute_result"
    }
   ],
   "source": [
    "max(lista)"
   ]
  },
  {
   "cell_type": "code",
   "execution_count": 45,
   "id": "76a8295a",
   "metadata": {},
   "outputs": [
    {
     "data": {
      "text/plain": [
       "-2"
      ]
     },
     "execution_count": 45,
     "metadata": {},
     "output_type": "execute_result"
    }
   ],
   "source": [
    "min(lista)"
   ]
  },
  {
   "cell_type": "code",
   "execution_count": 47,
   "id": "2ff3fd84",
   "metadata": {},
   "outputs": [],
   "source": [
    "# def <nombre de la funcion>():\n",
    "    #<sentencias>"
   ]
  },
  {
   "cell_type": "code",
   "execution_count": 51,
   "id": "70633683",
   "metadata": {},
   "outputs": [
    {
     "name": "stdout",
     "output_type": "stream",
     "text": [
      "Hola Tony Burgos\n",
      "Estoy creando mi propio codigo\n"
     ]
    }
   ],
   "source": [
    "def saludo():\n",
    "    print(\"Hola Tony Burgos\")\n",
    "    print(\"Estoy creando mi propio codigo\")\n",
    "\n",
    "saludo()"
   ]
  },
  {
   "cell_type": "code",
   "execution_count": 52,
   "id": "e11fdd17",
   "metadata": {},
   "outputs": [
    {
     "name": "stdout",
     "output_type": "stream",
     "text": [
      "Hola Tony Burgos\n",
      "Estoy creando mi propio codigo\n"
     ]
    }
   ],
   "source": [
    "saludo()"
   ]
  },
  {
   "cell_type": "code",
   "execution_count": 53,
   "id": "6fd9c79f",
   "metadata": {},
   "outputs": [
    {
     "name": "stdout",
     "output_type": "stream",
     "text": [
      "Hola Tony Burgos\n",
      "Estoy creando mi propio codigo\n"
     ]
    },
    {
     "data": {
      "text/plain": [
       "NoneType"
      ]
     },
     "execution_count": 53,
     "metadata": {},
     "output_type": "execute_result"
    }
   ],
   "source": [
    "type(saludo())"
   ]
  },
  {
   "cell_type": "code",
   "execution_count": 57,
   "id": "fa43505b",
   "metadata": {},
   "outputs": [
    {
     "name": "stdout",
     "output_type": "stream",
     "text": [
      "7 x 0 = 0\n",
      "7 x 1 = 7\n",
      "7 x 2 = 14\n",
      "7 x 3 = 21\n",
      "7 x 4 = 28\n",
      "7 x 5 = 35\n",
      "7 x 6 = 42\n",
      "7 x 7 = 49\n",
      "7 x 8 = 56\n",
      "7 x 9 = 63\n",
      "7 x 10 = 70\n"
     ]
    }
   ],
   "source": [
    "def tabla7():\n",
    "    for i in range(11):\n",
    "        print(\"7 x {} = {}\".format(i, i*7))\n",
    "\n",
    "tabla7()\n",
    "    \n",
    "    "
   ]
  },
  {
   "cell_type": "markdown",
   "id": "f56772aa",
   "metadata": {},
   "source": [
    "# Ejercicio 1"
   ]
  },
  {
   "cell_type": "code",
   "execution_count": 58,
   "id": "6f3316e2",
   "metadata": {},
   "outputs": [],
   "source": [
    "# Crear un programa que tenga una lista, luego crear una funcion con la cual se van a pedir numeros al usuario para agregar a la lista. Debes crear una segunda funcion en donde se ordenen los numeros pares e impares dentro de dos listas nuevas"
   ]
  },
  {
   "cell_type": "code",
   "execution_count": 60,
   "id": "118d69fe",
   "metadata": {},
   "outputs": [],
   "source": [
    "lista = []\n",
    "num = 0"
   ]
  },
  {
   "cell_type": "code",
   "execution_count": 61,
   "id": "d9ed8e54",
   "metadata": {},
   "outputs": [],
   "source": [
    "def pedir():\n",
    "    i = 0\n",
    "    while i <= 5:\n",
    "        num = float(input(\"Ingresa un numero: \"))\n",
    "        lista.append(num)\n",
    "        i += 1"
   ]
  },
  {
   "cell_type": "code",
   "execution_count": 62,
   "id": "c453f308",
   "metadata": {},
   "outputs": [
    {
     "name": "stdout",
     "output_type": "stream",
     "text": [
      "Ingresa un numero: 1\n",
      "Ingresa un numero: 2\n",
      "Ingresa un numero: 3\n",
      "Ingresa un numero: 4\n",
      "Ingresa un numero: 5\n",
      "Ingresa un numero: 6\n"
     ]
    }
   ],
   "source": [
    "pedir()"
   ]
  },
  {
   "cell_type": "code",
   "execution_count": 63,
   "id": "74da7b72",
   "metadata": {},
   "outputs": [
    {
     "data": {
      "text/plain": [
       "[1.0, 2.0, 3.0, 4.0, 5.0, 6.0]"
      ]
     },
     "execution_count": 63,
     "metadata": {},
     "output_type": "execute_result"
    }
   ],
   "source": [
    "lista"
   ]
  },
  {
   "cell_type": "code",
   "execution_count": 68,
   "id": "01063de2",
   "metadata": {},
   "outputs": [
    {
     "name": "stdout",
     "output_type": "stream",
     "text": [
      "Ingresa un numero: 4\n",
      "Ingresa un numero: 6\n",
      "Ingresa un numero: 10\n",
      "Ingresa un numero: 7\n",
      "Ingresa un numero: 101\n",
      "Ingresa un numero: 3\n",
      "[2.0, 2.0, 4.0, 4.0, 4.0, 6.0, 6.0, 6.0, 8.0, 10.0, 54.0, 56.0, 74.0]\n",
      "[1.0, 3.0, 3.0, 3.0, 5.0, 5.0, 5.0, 7.0, 25.0, 45.0, 101.0]\n"
     ]
    }
   ],
   "source": [
    "def ordenar():\n",
    "    lista.sort()\n",
    "    pares = []\n",
    "    impares = []\n",
    "    for i in lista:\n",
    "        if i % 2 == 0:\n",
    "            pares.append(i)\n",
    "        else:\n",
    "            impares.append(i)\n",
    "    print(pares)\n",
    "    print(impares)\n",
    "pedir()\n",
    "ordenar()"
   ]
  },
  {
   "cell_type": "markdown",
   "id": "236b9d68",
   "metadata": {},
   "source": [
    "# Ejercicio 2"
   ]
  },
  {
   "cell_type": "code",
   "execution_count": 59,
   "id": "ca116994",
   "metadata": {},
   "outputs": [],
   "source": [
    "# Escribir una función que reciba un número entero positivo y devuelva su factorial."
   ]
  },
  {
   "cell_type": "code",
   "execution_count": 76,
   "id": "81d4b0ae",
   "metadata": {},
   "outputs": [
    {
     "name": "stdout",
     "output_type": "stream",
     "text": [
      "Ingresa tu numero y positivo: 6\n",
      "720\n"
     ]
    }
   ],
   "source": [
    "def factorial():\n",
    "    num = int(input(\"Ingresa tu numero y positivo: \"))\n",
    "    if num > 0:\n",
    "        factorial = 1\n",
    "        for i in range(1, num + 1):\n",
    "            factorial = factorial * i\n",
    "        print(factorial)\n",
    "        \n",
    "    else:\n",
    "        print(\"El numero es negativo y no podemos proceder\")\n",
    "        \n",
    "factorial()"
   ]
  },
  {
   "cell_type": "code",
   "execution_count": 99,
   "id": "f6b9f5e1",
   "metadata": {},
   "outputs": [],
   "source": [
    "import math\n",
    "import random"
   ]
  },
  {
   "cell_type": "code",
   "execution_count": 81,
   "id": "e111ac1c",
   "metadata": {},
   "outputs": [
    {
     "data": {
      "text/plain": [
       "1000.0"
      ]
     },
     "execution_count": 81,
     "metadata": {},
     "output_type": "execute_result"
    }
   ],
   "source": [
    "math.pow(10, 3) #Potencia 10 elevado a 3"
   ]
  },
  {
   "cell_type": "code",
   "execution_count": 83,
   "id": "d288b7ca",
   "metadata": {},
   "outputs": [
    {
     "data": {
      "text/plain": [
       "8.0"
      ]
     },
     "execution_count": 83,
     "metadata": {},
     "output_type": "execute_result"
    }
   ],
   "source": [
    "math.sqrt(64) #Raiz Cuadrada con decimales"
   ]
  },
  {
   "cell_type": "code",
   "execution_count": 85,
   "id": "a45d1fe3",
   "metadata": {},
   "outputs": [
    {
     "data": {
      "text/plain": [
       "8"
      ]
     },
     "execution_count": 85,
     "metadata": {},
     "output_type": "execute_result"
    }
   ],
   "source": [
    "math.isqrt(64) #Raiz cuadrada sin decimales"
   ]
  },
  {
   "cell_type": "code",
   "execution_count": 86,
   "id": "5a34bcd8",
   "metadata": {},
   "outputs": [
    {
     "data": {
      "text/plain": [
       "0.8939966636005579"
      ]
     },
     "execution_count": 86,
     "metadata": {},
     "output_type": "execute_result"
    }
   ],
   "source": [
    "math.sin(90)"
   ]
  },
  {
   "cell_type": "code",
   "execution_count": 87,
   "id": "3ac823b0",
   "metadata": {},
   "outputs": [
    {
     "data": {
      "text/plain": [
       "-0.4480736161291701"
      ]
     },
     "execution_count": 87,
     "metadata": {},
     "output_type": "execute_result"
    }
   ],
   "source": [
    "math.cos(90)"
   ]
  },
  {
   "cell_type": "code",
   "execution_count": 90,
   "id": "78aaa236",
   "metadata": {},
   "outputs": [
    {
     "data": {
      "text/plain": [
       "-1.995200412208242"
      ]
     },
     "execution_count": 90,
     "metadata": {},
     "output_type": "execute_result"
    }
   ],
   "source": [
    "math.tan(90)"
   ]
  },
  {
   "cell_type": "code",
   "execution_count": 91,
   "id": "f6651e54",
   "metadata": {},
   "outputs": [
    {
     "data": {
      "text/plain": [
       "120"
      ]
     },
     "execution_count": 91,
     "metadata": {},
     "output_type": "execute_result"
    }
   ],
   "source": [
    "math.factorial(5) # 1 x 2 x 3 x 4 x 5"
   ]
  },
  {
   "cell_type": "code",
   "execution_count": 103,
   "id": "6cd97fb8",
   "metadata": {},
   "outputs": [
    {
     "data": {
      "text/plain": [
       "17"
      ]
     },
     "execution_count": 103,
     "metadata": {},
     "output_type": "execute_result"
    }
   ],
   "source": [
    "random.randint(1, 100)"
   ]
  },
  {
   "cell_type": "code",
   "execution_count": 3,
   "id": "db07b924",
   "metadata": {},
   "outputs": [
    {
     "name": "stdout",
     "output_type": "stream",
     "text": [
      "Este dato es un dato entero\n",
      "10\n",
      "Este es un dato decimal\n",
      "90.99\n"
     ]
    }
   ],
   "source": [
    "def entero():\n",
    "    print('Este dato es un dato entero')\n",
    "    return 10\n",
    "def decimal():\n",
    "    print(\"Este es un dato decimal\")\n",
    "    return 90.99\n",
    "    \n",
    "print(entero())\n",
    "print(decimal())"
   ]
  },
  {
   "cell_type": "code",
   "execution_count": 4,
   "id": "b2404180",
   "metadata": {},
   "outputs": [
    {
     "name": "stdout",
     "output_type": "stream",
     "text": [
      "1\n"
     ]
    }
   ],
   "source": [
    "def asignacion():\n",
    "    return 1, 2, 3, 4, 5\n",
    "variable, variable = 10, 20\n",
    "a, b, c, d, e = asignacion()\n",
    "print(a)"
   ]
  },
  {
   "cell_type": "markdown",
   "id": "043ee589",
   "metadata": {},
   "source": [
    "# Ejercicio 1 "
   ]
  },
  {
   "cell_type": "code",
   "execution_count": null,
   "id": "d84966ab",
   "metadata": {},
   "outputs": [],
   "source": [
    "# Crear una funcion que pida dos numeros. Si el primero es mayor al segundo, el programa debe retornar el valor 1; si el segundo es mayor al primero, debe retornar -1; si ambos son iguales, debe retornar 0"
   ]
  },
  {
   "cell_type": "code",
   "execution_count": 7,
   "id": "752fdc88",
   "metadata": {},
   "outputs": [
    {
     "name": "stdout",
     "output_type": "stream",
     "text": [
      "Ingrese el primer numero: 1\n",
      "Ingrese el segundo numero: 2\n",
      "-1\n"
     ]
    }
   ],
   "source": [
    "def numeros():\n",
    "    num1 = float(input(\"Ingrese el primer numero: \"))\n",
    "    num2 = float(input(\"Ingrese el segundo numero: \"))\n",
    "    if num1 > num2:\n",
    "        return 1\n",
    "    elif num2 > num1:\n",
    "        return -1\n",
    "    else:\n",
    "        return 0\n",
    "print(numeros())\n",
    "    "
   ]
  },
  {
   "cell_type": "markdown",
   "id": "dae88f74",
   "metadata": {},
   "source": [
    "# Ejercicio 2"
   ]
  },
  {
   "cell_type": "code",
   "execution_count": 5,
   "id": "29c711a9",
   "metadata": {},
   "outputs": [],
   "source": [
    "# Escribir una función que calcule el total de una factura tras aplicarle el IVA. La función debe recibir la cantidad sin IVA y el porcentaje de IVA a aplicar, y devolver el total de la factura. Si se invoca la función sin pasarle el porcentaje de IVA, deberá aplicar un 21%."
   ]
  },
  {
   "cell_type": "code",
   "execution_count": 15,
   "id": "cc1a32e7",
   "metadata": {},
   "outputs": [
    {
     "name": "stdout",
     "output_type": "stream",
     "text": [
      "Ingresa el valor del producto que estas pagando: 100\n",
      "Ingresa el valor del IVA: 30\n",
      "El total de su monto es:  130.0\n"
     ]
    }
   ],
   "source": [
    "def total():\n",
    "    monto = float(input(\"Ingresa el valor del producto que estas pagando: \"))\n",
    "    iva = int(input(\"Ingresa el valor del IVA: \"))\n",
    "    if iva != 0:\n",
    "        if iva > 0:\n",
    "            totalpagar = ((monto * iva) / 100) + monto\n",
    "            return totalpagar\n",
    "        \n",
    "        else:\n",
    "            return \"El monto del iva es negativo, no podemos avanzar\"\n",
    "        \n",
    "    else:\n",
    "        totalpagar = (monto * 0.21) + monto\n",
    "        return totalpagar\n",
    "    \n",
    "print(\"El total de su monto es: \", total())\n"
   ]
  },
  {
   "cell_type": "code",
   "execution_count": 16,
   "id": "4f9bbd36",
   "metadata": {},
   "outputs": [
    {
     "name": "stdout",
     "output_type": "stream",
     "text": [
      "50\n"
     ]
    }
   ],
   "source": [
    "def suma():\n",
    "    num1 = 20\n",
    "    num2 = 30\n",
    "    suma = num1 + num2\n",
    "    return suma\n",
    "print(suma())\n",
    "    "
   ]
  },
  {
   "cell_type": "code",
   "execution_count": 3,
   "id": "884b2336",
   "metadata": {},
   "outputs": [
    {
     "name": "stdout",
     "output_type": "stream",
     "text": [
      "45\n",
      "150\n"
     ]
    }
   ],
   "source": [
    "def suma(num1 , num2):\n",
    "    suma = num1 + num2\n",
    "    return suma\n",
    "\n",
    "\n",
    "print(suma(10 , 35))\n",
    "print(suma(100 , 50))\n",
    "\n",
    "    "
   ]
  },
  {
   "cell_type": "code",
   "execution_count": 13,
   "id": "c61ca9b4",
   "metadata": {},
   "outputs": [
    {
     "name": "stdout",
     "output_type": "stream",
     "text": [
      "70\n"
     ]
    }
   ],
   "source": [
    "def valores():\n",
    "    global num1\n",
    "    global num2\n",
    "    num1 = 110\n",
    "    num2 = 40\n",
    "    resultado = num1 + num2\n",
    "    return resultado\n",
    "valores()\n",
    "resta = num1 - num2 # el contenido no está dentro del codigo\n",
    "print(resta)"
   ]
  },
  {
   "cell_type": "code",
   "execution_count": 16,
   "id": "2ed20fa2",
   "metadata": {},
   "outputs": [
    {
     "name": "stdout",
     "output_type": "stream",
     "text": [
      "<class 'int'>\n",
      "<class 'str'>\n",
      "<class 'float'>\n"
     ]
    }
   ],
   "source": [
    "def argumento(*num):\n",
    "    return(type(num))\n",
    "print(argumento(10))\n",
    "print(argumento(\"lol\"))\n",
    "print(argumento(10.1))"
   ]
  },
  {
   "cell_type": "code",
   "execution_count": 17,
   "id": "a143abdd",
   "metadata": {},
   "outputs": [
    {
     "name": "stdout",
     "output_type": "stream",
     "text": [
      "<class 'tuple'>\n",
      "<class 'tuple'>\n",
      "<class 'tuple'>\n"
     ]
    }
   ],
   "source": [
    "def argumento(*num):\n",
    "    return(type(num))\n",
    "print(argumento(10))\n",
    "print(argumento(\"lol\"))\n",
    "print(argumento(10.1))"
   ]
  },
  {
   "cell_type": "code",
   "execution_count": 18,
   "id": "c85293d4",
   "metadata": {},
   "outputs": [
    {
     "name": "stdout",
     "output_type": "stream",
     "text": [
      "10\n",
      "20\n",
      "30\n",
      "40\n",
      "50\n",
      "None\n"
     ]
    }
   ],
   "source": [
    "def argumento(*num):\n",
    "    for i in num:\n",
    "        print(i)\n",
    "        \n",
    "print(argumento(10, 20, 30, 40, 50))"
   ]
  },
  {
   "cell_type": "markdown",
   "id": "f2133132",
   "metadata": {},
   "source": [
    "# Ejercicio 1"
   ]
  },
  {
   "cell_type": "code",
   "execution_count": 19,
   "id": "f83b7751",
   "metadata": {},
   "outputs": [],
   "source": [
    "# Crear un programa que tenga dos funciones, una que contenga el area de un cuadrado con argumentos de base y altura; y la otra el area de un circulo con argumento de radio"
   ]
  },
  {
   "cell_type": "code",
   "execution_count": 22,
   "id": "e8a515d5",
   "metadata": {},
   "outputs": [
    {
     "name": "stdout",
     "output_type": "stream",
     "text": [
      "50\n"
     ]
    }
   ],
   "source": [
    "def areaCuadrado(base, altura):\n",
    "    return base * altura\n",
    "\n",
    "print(areaCuadrado(10, 5)) "
   ]
  },
  {
   "cell_type": "code",
   "execution_count": 25,
   "id": "03bb3e6d",
   "metadata": {},
   "outputs": [
    {
     "data": {
      "text/plain": [
       "314.0"
      ]
     },
     "execution_count": 25,
     "metadata": {},
     "output_type": "execute_result"
    }
   ],
   "source": [
    "def areaCirculo(radio):\n",
    "    return pow(radio, 2) * 3.14\n",
    "    print(area)\n",
    "areaCirculo(10)"
   ]
  },
  {
   "cell_type": "markdown",
   "id": "8a495cd6",
   "metadata": {},
   "source": [
    "# Ejercicio 2"
   ]
  },
  {
   "cell_type": "code",
   "execution_count": 20,
   "id": "db144044",
   "metadata": {},
   "outputs": [],
   "source": [
    "# Escribir una función que reciba una muestra de números en una lista y devuelva su medida."
   ]
  },
  {
   "cell_type": "code",
   "execution_count": 26,
   "id": "e4b612b2",
   "metadata": {},
   "outputs": [
    {
     "name": "stdout",
     "output_type": "stream",
     "text": [
      "5\n"
     ]
    }
   ],
   "source": [
    "def medida(*tupla):\n",
    "    print(len(tupla))\n",
    "medida(2, 3, 4, 10, 20)"
   ]
  },
  {
   "cell_type": "markdown",
   "id": "c285cb2f",
   "metadata": {},
   "source": [
    "# Errores y Excepciones"
   ]
  },
  {
   "cell_type": "code",
   "execution_count": 30,
   "id": "0cce74bd",
   "metadata": {},
   "outputs": [
    {
     "name": "stdout",
     "output_type": "stream",
     "text": [
      "Ingrese su edad: 20\n",
      "Tu edad es 20\n",
      "La ejecucion ha finalizado\n"
     ]
    }
   ],
   "source": [
    "while True:\n",
    "    try:\n",
    "        edad = int(input(\"Ingrese su edad: \"))\n",
    "        print(\"Tu edad es\", edad)\n",
    "        break\n",
    "    except:\n",
    "        print(\"Ingresaste un valor erroneo\")\n",
    "    finally:\n",
    "        print(\"La ejecucion ha finalizado\")\n"
   ]
  },
  {
   "cell_type": "code",
   "execution_count": 32,
   "id": "caeba233",
   "metadata": {},
   "outputs": [
    {
     "name": "stdout",
     "output_type": "stream",
     "text": [
      "Ingresa un numero: 0\n",
      "no se puede dividir entre 0\n",
      "Ingresa un numero: 4\n",
      "25.0\n"
     ]
    }
   ],
   "source": [
    "while True:\n",
    "    try:\n",
    "        num1 = int(input(\"Ingresa un numero: \"))\n",
    "        resultado = 100 / num1\n",
    "        print(resultado)\n",
    "        break\n",
    "    except ZeroDivisionError:\n",
    "        print(\"no se puede dividir entre 0\")"
   ]
  },
  {
   "cell_type": "code",
   "execution_count": 33,
   "id": "726e8e14",
   "metadata": {
    "scrolled": true
   },
   "outputs": [
    {
     "name": "stdout",
     "output_type": "stream",
     "text": [
      "Ingresa tu edad: w\n",
      "Has colodado un valor error\n",
      "Ingresa tu edad: 30\n",
      "Tu edad es  30\n"
     ]
    }
   ],
   "source": [
    "while True:\n",
    "    try:\n",
    "        edad = int(input(\"Ingresa tu edad: \"))\n",
    "        print(\"Tu edad es \",edad)\n",
    "        break\n",
    "    except ValueError:\n",
    "        print(\"Has colodado un valor error\")"
   ]
  },
  {
   "cell_type": "code",
   "execution_count": 1,
   "id": "3c7ac33b",
   "metadata": {},
   "outputs": [
    {
     "name": "stdout",
     "output_type": "stream",
     "text": [
      "Ingresa tu edad: 5\n",
      "Tu edad es  5\n"
     ]
    }
   ],
   "source": [
    "while True:\n",
    "    try:\n",
    "        edad = int(input(\"Ingresa tu edad: \"))\n",
    "        print(\"Tu edad es \",edad)\n",
    "        break\n",
    "    except KeyboardInterrupt:\n",
    "        print(\"\\nHas cancelado la ejecucion\") #CRTL + C\n",
    "        break\n",
    "    \n",
    "    "
   ]
  },
  {
   "cell_type": "markdown",
   "id": "4a9b784a",
   "metadata": {},
   "source": [
    "# Programacion orientada a objetos"
   ]
  },
  {
   "cell_type": "code",
   "execution_count": 5,
   "id": "acec6049",
   "metadata": {},
   "outputs": [
    {
     "name": "stdout",
     "output_type": "stream",
     "text": [
      "<class 'type'>\n",
      "<class '__main__.FabricaTelefonos'>\n",
      "<class '__main__.FabricaTelefonos'>\n"
     ]
    }
   ],
   "source": [
    "class FabricaTelefonos(): # Clase\n",
    "    pass # sin sentencias\n",
    "print(type(FabricaTelefonos))\n",
    "celular = FabricaTelefonos() # Objeto\n",
    "celular2 = FabricaTelefonos() #Objeto\n",
    "\n",
    "print(type(celular))\n",
    "print(type(celular2))\n"
   ]
  },
  {
   "cell_type": "code",
   "execution_count": 7,
   "id": "bf1a1362",
   "metadata": {},
   "outputs": [
    {
     "name": "stdout",
     "output_type": "stream",
     "text": [
      "<class 'function'>\n",
      "<class 'NoneType'>\n"
     ]
    }
   ],
   "source": [
    "def FabricaTelefonos():\n",
    "    pass\n",
    "print(type(FabricaTelefonos))\n",
    "print(type(FabricaTelefonos())) "
   ]
  },
  {
   "cell_type": "markdown",
   "id": "fb1737a5",
   "metadata": {},
   "source": [
    "## Metodos y Atributos "
   ]
  },
  {
   "cell_type": "code",
   "execution_count": 20,
   "id": "d591f0bd",
   "metadata": {},
   "outputs": [
    {
     "name": "stdout",
     "output_type": "stream",
     "text": [
      "Hola, ¿Con quien hablo?\n",
      "Estas escuchando musica\n"
     ]
    }
   ],
   "source": [
    "class FabricaTelefonos():\n",
    "    marca = \"Huawei\"\n",
    "    color = \"Negro\"\n",
    "    memoriaRam = 32\n",
    "    almacenamiento = 128\n",
    "\n",
    "    def llamar(self , mensaje):\n",
    "        return mensaje\n",
    "    def escucharMusica(self):\n",
    "        print(\"Estas escuchando musica\")\n",
    "        \n",
    "telefono = FabricaTelefonos()\n",
    "telefono.marca\n",
    "telefono.color\n",
    "telefono.memoriaRam\n",
    "telefono.almacenamiento\n",
    "        \n",
    "#print(telefono.almacenamiento)\n",
    "print(telefono.llamar(\"Hola, ¿Con quien hablo?\"))\n",
    "telefono.escucharMusica()"
   ]
  },
  {
   "cell_type": "code",
   "execution_count": 25,
   "id": "e729c657",
   "metadata": {},
   "outputs": [
    {
     "name": "stdout",
     "output_type": "stream",
     "text": [
      "Samsung\n",
      "Huawei\n"
     ]
    }
   ],
   "source": [
    "class FabricaTelefonos():\n",
    "    marca = \"Samsung\"\n",
    "    \n",
    "    def ElaborarHuawei(self):\n",
    "        self.marca = \"Huawei\"\n",
    "telefono = FabricaTelefonos()\n",
    "print(telefono.marca)\n",
    "telefono.ElaborarHuawei()\n",
    "print(telefono.marca) #Con el self selecionas la marca"
   ]
  },
  {
   "cell_type": "code",
   "execution_count": 29,
   "id": "30f73394",
   "metadata": {},
   "outputs": [
    {
     "name": "stdout",
     "output_type": "stream",
     "text": [
      "Huawei\n",
      "Azul\n"
     ]
    }
   ],
   "source": [
    "class FabricaTelefonos():\n",
    "    def __init__(self, marca, color):\n",
    "        self.marca = \"Huawei\"\n",
    "        self.color = color\n",
    "        \n",
    "\n",
    "telefono = FabricaTelefonos(\"Huawei\", \"Azul\")\n",
    "print(telefono.marca)\n",
    "print(telefono.color)\n",
    "\n"
   ]
  },
  {
   "cell_type": "code",
   "execution_count": 35,
   "id": "95304fd2",
   "metadata": {},
   "outputs": [
    {
     "name": "stdout",
     "output_type": "stream",
     "text": [
      "El objeto Nokia ha sido creado\n",
      "El objeto Nokia ha sido destruido\n",
      "Nokia\n",
      "<__main__.FabricaTelefonos object at 0x000002CA0D0370A0>\n"
     ]
    }
   ],
   "source": [
    "class FabricaTelefonos():\n",
    "    def __init__(self, marca, color):\n",
    "        self.marca = marca\n",
    "        self.color = color\n",
    "        print(\"El objeto {} ha sido creado\".format(self.marca))\n",
    "        \n",
    "        def __str__(self):\n",
    "            return \"El objeto es {}\".format(self.marca)\n",
    "        \n",
    "    def __del__(self):\n",
    "        print(\"El objeto {} ha sido destruido\".format(self.marca))\n",
    "telefono = FabricaTelefonos(\"Nokia\", \"Negro\")\n",
    "print(telefono.marca)\n",
    "print(telefono)"
   ]
  },
  {
   "cell_type": "code",
   "execution_count": 42,
   "id": "136f519b",
   "metadata": {},
   "outputs": [
    {
     "name": "stdout",
     "output_type": "stream",
     "text": [
      "Alcatel\n",
      "('Negro', 'Azul')\n",
      "{'m1': 500, 'm2': 1000}\n",
      "512\n"
     ]
    }
   ],
   "source": [
    "class FabricaTelefonos():\n",
    "    def __init__(self, marca, *colores, **modelos):\n",
    "        self.marca = marca\n",
    "        self.colores = colores\n",
    "        self.modelos = modelos\n",
    "        \n",
    "telefono = FabricaTelefonos(\"Alcatel\", \"Negro\", \"Azul\", m1 = 500, m2 = 1000)\n",
    "print(telefono.marca)\n",
    "print(telefono.colores)\n",
    "print(telefono.modelos)\n",
    "telefono.memoria = 512\n",
    "print(telefono.memoria)\n"
   ]
  },
  {
   "cell_type": "code",
   "execution_count": 62,
   "id": "20db9cfb",
   "metadata": {},
   "outputs": [
    {
     "name": "stdout",
     "output_type": "stream",
     "text": [
      "Objeto 1\n",
      "0\n",
      "1\n",
      "1\n",
      "Objeto 2\n",
      "0\n",
      "1\n"
     ]
    }
   ],
   "source": [
    "class A():\n",
    "    def __init__(self):\n",
    "        self.contador = 0\n",
    "    \n",
    "    def incrementar(self):\n",
    "        self.contador += 1\n",
    "        \n",
    "    def cuenta(self):\n",
    "        return self.contador\n",
    "\n",
    "class B():\n",
    "    def __init__(self):\n",
    "        self.__contador = 0\n",
    "    \n",
    "    def incrementar(self):\n",
    "        self.__contador += 1\n",
    "        \n",
    "    def cuenta(self):\n",
    "        return self.__contador\n",
    "print(\"Objeto 1\")\n",
    "a = A()\n",
    "print(a.cuenta())\n",
    "a.incrementar()\n",
    "print(a.cuenta())\n",
    "print(a.contador)\n",
    "\n",
    "print(\"Objeto 2\")\n",
    "b = B()\n",
    "print(b.cuenta())\n",
    "b.incrementar()\n",
    "print(b.cuenta())\n",
    "# print(b.__contador) no se puede llamar por fuera de ello, solo por dentro\n",
    "\n"
   ]
  },
  {
   "cell_type": "code",
   "execution_count": 65,
   "id": "9751f0d8",
   "metadata": {},
   "outputs": [
    {
     "name": "stdout",
     "output_type": "stream",
     "text": [
      "0\n"
     ]
    }
   ],
   "source": [
    "class A():\n",
    "    def __init__(self):\n",
    "        self._contador = 0 # no se modifica, y se llama con el metodo get\n",
    "        self._cuenta = 0 #le decimos a otro programador llamar con su metodo get\n",
    "        \n",
    "    def incrementar(self):\n",
    "        self._contador += 1\n",
    "        \n",
    "    def cuenta(self):\n",
    "        return self._contador\n",
    "\n",
    "a = A()\n",
    "# print(a.cuenta) # no se hace\n",
    "# a.cuenta = 20 #tambien no se hace\n",
    "#print(a._cuenta)\n",
    "        "
   ]
  },
  {
   "cell_type": "code",
   "execution_count": 68,
   "id": "a6356d4b",
   "metadata": {},
   "outputs": [
    {
     "name": "stdout",
     "output_type": "stream",
     "text": [
      "0\n",
      "0\n"
     ]
    }
   ],
   "source": [
    "class A():\n",
    "    def __init__(self):\n",
    "        self._cuenta = 0\n",
    "        self._contador = 0 \n",
    "    \n",
    "    @property    \n",
    "    def cuenta(self): #metodo GET\n",
    "        return self._cuenta\n",
    "    @property\n",
    "    def contador(self):\n",
    "        return self._contador\n",
    "    \n",
    "a = A()\n",
    "\n",
    "print(a.cuenta) #Manera correcta de imprimir por pantalla\n",
    "print(a.contador)"
   ]
  },
  {
   "cell_type": "code",
   "execution_count": 71,
   "id": "effb4098",
   "metadata": {},
   "outputs": [
    {
     "name": "stdout",
     "output_type": "stream",
     "text": [
      "0\n",
      "20\n",
      "0\n",
      "10\n"
     ]
    }
   ],
   "source": [
    "class A():\n",
    "    def __init__(self):\n",
    "        self._cuenta = 0\n",
    "        self._contador = 0 \n",
    "    \n",
    "    @property    \n",
    "    def cuenta(self): #metodo GET #ATRIBUTO\n",
    "        return self._cuenta\n",
    "    \n",
    "    @cuenta.setter\n",
    "    def cuenta(self , cuenta):\n",
    "        self._cuenta = cuenta\n",
    "    \n",
    "    @property\n",
    "    def contador(self):       #ATRIBUTO\n",
    "        return self._contador\n",
    "    \n",
    "    @contador.setter\n",
    "    def contador(self, contador):\n",
    "        self._contador = contador\n",
    "    \n",
    "a = A()\n",
    "\n",
    "print(a.cuenta) #Manera correcta de imprimir por pantalla\n",
    "a.cuenta = 20 #Manera correcta de modificar un valor\n",
    "print(a.cuenta)\n",
    "print(a.contador)\n",
    "a.contador = 10\n",
    "print(a.contador)\n",
    "\n"
   ]
  },
  {
   "cell_type": "code",
   "execution_count": 75,
   "id": "4a6e2845",
   "metadata": {},
   "outputs": [
    {
     "name": "stdout",
     "output_type": "stream",
     "text": [
      "Yo soy un Animal\n",
      "Yo soy un Animal\n",
      "Yo soy un Abeja\n"
     ]
    }
   ],
   "source": [
    "class Animales(): #clase padre\n",
    "    def habla(self):\n",
    "        print(\"Yo soy un Animal\")\n",
    "    \n",
    "    def descripcion(self):\n",
    "        print(\"Yo soy un {}\".format(self.animal))\n",
    "    \n",
    "        \n",
    "class Perro(Animales): #hereda la clase animales\n",
    "    pass #No colocamos nada\n",
    "\n",
    "class Abeja(Animales):\n",
    "    def __init__(self, animal):\n",
    "        self.animal = animal\n",
    "\n",
    "\n",
    "animal = Animales()\n",
    "animal.habla()\n",
    "\n",
    "perro = Perro()\n",
    "perro.habla()\n",
    "abeja = Abeja(\"Abeja\")\n",
    "abeja.descripcion()\n"
   ]
  },
  {
   "cell_type": "code",
   "execution_count": 79,
   "id": "8c51f062",
   "metadata": {},
   "outputs": [
    {
     "name": "stdout",
     "output_type": "stream",
     "text": [
      "Firulais\n",
      "Guauoo!\n"
     ]
    }
   ],
   "source": [
    "class Animales():\n",
    "    def __init__(self, nombre):\n",
    "        self.nombre = nombre\n",
    "        \n",
    "class Perro(Animales):\n",
    "    def __init__(self, nombre, sonido):\n",
    "        super().__init__(nombre)\n",
    "        self.sonido = sonido\n",
    "        \n",
    "perro = Perro(\"Firulais\", \"Guauoo!\")\n",
    "\n",
    "print(perro.nombre) #no se hace asi----\n",
    "print(perro.sonido)"
   ]
  },
  {
   "cell_type": "code",
   "execution_count": 84,
   "id": "37e5b241",
   "metadata": {},
   "outputs": [
    {
     "name": "stdout",
     "output_type": "stream",
     "text": [
      "Esta es la clase A\n",
      "Esta es la clase B\n"
     ]
    }
   ],
   "source": [
    "class A():\n",
    "    def primero(self):\n",
    "        return \"Esta es la clase A\"\n",
    "    \n",
    "class B():\n",
    "    def segunda(self):\n",
    "        return \"Esta es la clase B\"\n",
    "    \n",
    "class C(A , B):\n",
    "    pass\n",
    "\n",
    "c = C()\n",
    "print(c.primero())\n",
    "print(c.segunda())\n",
    "    "
   ]
  },
  {
   "cell_type": "code",
   "execution_count": 90,
   "id": "bb03a9d9",
   "metadata": {},
   "outputs": [
    {
     "name": "stdout",
     "output_type": "stream",
     "text": [
      "Yo hago Guauuu!\n",
      "Miau!\n",
      "Yo no hablo\n"
     ]
    }
   ],
   "source": [
    "class Animales():\n",
    "    def __init__(self, mensaje):\n",
    "        self.mensaje = mensaje\n",
    "        \n",
    "    def hablar(self):\n",
    "        print(self.mensaje)\n",
    "        \n",
    "class Perro(Animales):\n",
    "    def hablar(self):\n",
    "        print(\"Yo hago Guauuu!\") # El super se pone con el metodo __init__\n",
    "        \n",
    "class Pez(Animales):\n",
    "    def hablar(self):\n",
    "        print(\"Yo no hablo\")\n",
    "        \n",
    "perro = Perro(\"Guauuu!\")\n",
    "perro.hablar()\n",
    "\n",
    "animal = Animales(\"Miau!\")\n",
    "animal.hablar()\n",
    "pez = Pez(\"Nada\")\n",
    "pez.hablar()"
   ]
  },
  {
   "cell_type": "markdown",
   "id": "d8b9287e",
   "metadata": {},
   "source": [
    "# Ejercicio 1"
   ]
  },
  {
   "cell_type": "code",
   "execution_count": 91,
   "id": "cde005b8",
   "metadata": {},
   "outputs": [],
   "source": [
    "# Realizar un programa que conste de una clase llamada Estudiante, que tenga como atributos el nombre y la nota del alumno. Definir los métodos para inicializar sus atributos, imprimirlos y mostrar un mensaje con el resultado de la nota y si ha aprobado o no."
   ]
  },
  {
   "cell_type": "code",
   "execution_count": 99,
   "id": "bc156ec3",
   "metadata": {},
   "outputs": [
    {
     "name": "stdout",
     "output_type": "stream",
     "text": [
      "Nombre: Daniel \n",
      "Nota: 10\n",
      "Has aprobado!\n",
      "Nombre: Carla \n",
      "Nota: 5\n",
      "Has reprobado!\n"
     ]
    }
   ],
   "source": [
    "class Estudiante():\n",
    "    def __init__(self, nombre, nota):\n",
    "        self.nombre = nombre\n",
    "        self.nota = nota\n",
    "    \n",
    "    def imprimir(self):\n",
    "        print(\"Nombre: {} \\nNota: {}\".format(self.nombre, self.nota))\n",
    "        \n",
    "    def resultados(self):\n",
    "        if self.nota < 7:\n",
    "            print(\"Has reprobado!\")\n",
    "        else:\n",
    "            print(\"Has aprobado!\")\n",
    "            \n",
    "estudiante1 = Estudiante(\"Daniel\", 10)\n",
    "estudiante1.imprimir()\n",
    "estudiante1.resultados()\n",
    "\n",
    "estudiante2 = Estudiante(\"Carla\", 5)\n",
    "estudiante2.imprimir()\n",
    "estudiante2.resultados()\n",
    "    "
   ]
  },
  {
   "cell_type": "markdown",
   "id": "791e7032",
   "metadata": {},
   "source": [
    "# Ejercicio 2"
   ]
  },
  {
   "cell_type": "code",
   "execution_count": 100,
   "id": "1e86617b",
   "metadata": {},
   "outputs": [],
   "source": [
    "# Realizar un programa en el cual se declaren dos valores enteros por teclado utilizando el método __init__. Calcular después la suma, resta, multiplicación y división. Utilizar un método para cada una e imprimir los resultados obtenidos. Llamar a la clase Calculadora."
   ]
  },
  {
   "cell_type": "code",
   "execution_count": 104,
   "id": "40057ec6",
   "metadata": {},
   "outputs": [
    {
     "name": "stdout",
     "output_type": "stream",
     "text": [
      "Ingrese el primer Valor: 5\n",
      "Ingrese el segundo Valor: 2\n",
      "('La suma da como resultado: ', 7)\n",
      "('La resta da como resultado: ', 3)\n",
      "('La multiplicacion da como resultado: ', 10)\n",
      "('La division da como resultado:', 2.5)\n"
     ]
    }
   ],
   "source": [
    "class Calculadora():\n",
    "    def __init__(self):\n",
    "        self.num1 = int(input(\"Ingrese el primer Valor: \"))\n",
    "        self.num2 = int(input(\"Ingrese el segundo Valor: \"))\n",
    "        \n",
    "    def suma(self):\n",
    "        self.suma = self.num1 + self.num2\n",
    "        return \"La suma da como resultado: \",self.suma\n",
    "    \n",
    "    def resta(self):\n",
    "        self.resta = self.num1 - self.num2\n",
    "        return \"La resta da como resultado: \",self.resta\n",
    "    \n",
    "    def multiplicacion(self):\n",
    "        self.multiplicacion = self.num1 * self.num2\n",
    "        return \"La multiplicacion da como resultado: \",self.multiplicacion\n",
    "    \n",
    "    def division(self):\n",
    "        self.division = self.num1 / self.num2\n",
    "        return \"La division da como resultado:\",self.division\n",
    "    \n",
    "calcular = Calculadora()\n",
    "print(calcular.suma())\n",
    "print(calcular.resta())\n",
    "print(calcular.multiplicacion())\n",
    "print(calcular.division())"
   ]
  },
  {
   "cell_type": "markdown",
   "id": "806fca40",
   "metadata": {},
   "source": [
    "# Ejercicio 3"
   ]
  },
  {
   "cell_type": "code",
   "execution_count": 105,
   "id": "22d6738b",
   "metadata": {},
   "outputs": [],
   "source": [
    "# Crear una clase Fabrica que tenga los atributos de Llantas, Color y Precio; luego crear dos clases mas que hereden de Fabrica, las cuales son Moto y Carro. Crear metodos que muestren la cantidad de llantas, color y precio de ambos transportes. Por ultimo, crear objetos para cada clase y mostrar por pantalla los atributos de cada uno"
   ]
  },
  {
   "cell_type": "code",
   "execution_count": 108,
   "id": "786d0d9d",
   "metadata": {},
   "outputs": [
    {
     "name": "stdout",
     "output_type": "stream",
     "text": [
      "La cantidad de llantas de la moto es de:  2\n",
      "El color de la moto es de:  Negro\n",
      "El precio de la moto es:  4000\n",
      "La cantidad de llantas del coche es de:  4\n",
      "El color del carro es:  Azul\n",
      "El precio del carro es de:  18000\n"
     ]
    }
   ],
   "source": [
    "class Fabrica():\n",
    "    def __init__(self, llantas, color, precio):\n",
    "        self.llantas = llantas\n",
    "        self.color = color\n",
    "        self.precio = precio\n",
    "class Carro(Fabrica):\n",
    "    def datos(self):\n",
    "        print(\"La cantidad de llantas del coche es de: \",self.llantas)\n",
    "        print(\"El color del carro es: \", self.color)\n",
    "        print(\"El precio del carro es de: \",self.precio)\n",
    "class Moto(Fabrica):\n",
    "    def datos(self):\n",
    "        print(\"La cantidad de llantas de la moto es de: \",self.llantas)\n",
    "        print(\"El color de la moto es de: \",self.color)\n",
    "        print(\"El precio de la moto es: \", self.precio)\n",
    "        \n",
    "moto = Moto(2, \"Negro\", 4000)\n",
    "coche = Carro(4, \"Azul\", 18000)\n",
    "moto.datos()\n",
    "coche.datos()"
   ]
  },
  {
   "cell_type": "markdown",
   "id": "d13d1a1b",
   "metadata": {},
   "source": [
    "# Ejercicio 4"
   ]
  },
  {
   "cell_type": "code",
   "execution_count": 109,
   "id": "4f2c3b0e",
   "metadata": {},
   "outputs": [],
   "source": [
    "# Crear una clase llamada Marino(), con un metodo que sea hablar, en donde muestre un mensaje que diga \"Hola...\". Luego, crear una clase Pulpo() que herede Marino, pero modificar el mensaje de hablar por \"Soy un Pulpo\". Por ultimo, crear una clase Foca(), heredada de Marino, pero que tenga un atributo nuevo llamado mensaje y que muestre ese mesjae como parametro\n"
   ]
  },
  {
   "cell_type": "code",
   "execution_count": 116,
   "id": "fa84ddaf",
   "metadata": {},
   "outputs": [
    {
     "name": "stdout",
     "output_type": "stream",
     "text": [
      "Hola...\n",
      "Soy un pulpo\n",
      "Hola, soy una foca\n"
     ]
    }
   ],
   "source": [
    "class Marino():\n",
    "    def hablar(self):\n",
    "        print(\"Hola...\")\n",
    "        \n",
    "class Pulpo(Marino):\n",
    "    def hablar(self):\n",
    "        print(\"Soy un pulpo\")\n",
    "        \n",
    "class Foca(Marino):\n",
    "    def hablar(self, mensaje):\n",
    "        self.mensaje = mensaje\n",
    "        print(self.mensaje)\n",
    "marino = Marino()\n",
    "marino.hablar()\n",
    "\n",
    "pulpo = Pulpo()\n",
    "pulpo.hablar()\n",
    "\n",
    "foca = Foca()\n",
    "foca.hablar(\"Hola, soy una foca\")\n",
    "#POLIFORMISMO"
   ]
  },
  {
   "cell_type": "markdown",
   "id": "ee27ae7b",
   "metadata": {},
   "source": [
    "# Ejercicio 5"
   ]
  },
  {
   "cell_type": "code",
   "execution_count": 117,
   "id": "a2f46734",
   "metadata": {},
   "outputs": [],
   "source": [
    "# Crear un programa con tres clases Universidad, con atributos nombre (Donde se almacena el nombre de la Universidad). Otra llamada Carerra, con los atributos especialidad (En donde me guarda la especialidad de un estudiante). Una ultima llamada Estudiante, que tenga como atributos su nombre y edad. El programa debe imprimir la especialidad, edad, nombre y universidad de dicho estudiante con un objeto llamado persona.\n"
   ]
  },
  {
   "cell_type": "code",
   "execution_count": 10,
   "id": "493a6895",
   "metadata": {},
   "outputs": [
    {
     "name": "stdout",
     "output_type": "stream",
     "text": [
      "Mi nombre es Tony, tengo 30 años y mi especialidad es Economicas. Estudio en la universidad de la UMA\n"
     ]
    }
   ],
   "source": [
    "class Universidad():\n",
    "    def __init__(self,Nombre):\n",
    "        self.Nombre = Nombre\n",
    "        \n",
    "class Carrera():\n",
    "    def carrera(self, especialidad):\n",
    "        self.especialidad = especialidad\n",
    "        \n",
    "class Estudiante(Universidad, Carrera):\n",
    "    def datos(self, nombre, edad):\n",
    "        self.nombre = nombre\n",
    "        self.edad = edad\n",
    "        print(\"Mi nombre es {}, tengo {} años y mi especialidad es {}. Estudio en la universidad {}\".format(self.nombre,self.edad,self.especialidad,self.Nombre))\n",
    "\n",
    "persona = Estudiante(\"de la UMA\")\n",
    "persona.carrera(\"Economicas\")\n",
    "persona.datos(\"Tony\", 30)\n",
    "        "
   ]
  },
  {
   "cell_type": "code",
   "execution_count": null,
   "id": "13365fed",
   "metadata": {},
   "outputs": [],
   "source": []
  }
 ],
 "metadata": {
  "kernelspec": {
   "display_name": "Python 3 (ipykernel)",
   "language": "python",
   "name": "python3"
  },
  "language_info": {
   "codemirror_mode": {
    "name": "ipython",
    "version": 3
   },
   "file_extension": ".py",
   "mimetype": "text/x-python",
   "name": "python",
   "nbconvert_exporter": "python",
   "pygments_lexer": "ipython3",
   "version": "3.9.12"
  }
 },
 "nbformat": 4,
 "nbformat_minor": 5
}
